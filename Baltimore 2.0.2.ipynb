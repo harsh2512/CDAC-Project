{
 "cells": [
  {
   "cell_type": "markdown",
   "metadata": {},
   "source": [
    "# Priority Classification based on the Baltimore 911 Service Requests."
   ]
  },
  {
   "cell_type": "markdown",
   "metadata": {},
   "source": [
    "#### Data Source : https://data.baltimorecity.gov/Public-Safety/911-Police-Calls-for-Service/xviu-ezkt\n",
    "#### Team Members : P Akash, Desh Deepak Yadav, Gaurav Tripathi, and Harsh Vardhan Singh"
   ]
  },
  {
   "cell_type": "code",
   "execution_count": 1,
   "metadata": {},
   "outputs": [
    {
     "name": "stdout",
     "output_type": "stream",
     "text": [
      "Python version :  3.7.0 (default, Jun 28 2018, 08:04:48) [MSC v.1912 64 bit (AMD64)]\n",
      "Numpy version :  1.15.1\n",
      "Pandas version :  0.23.4\n",
      "Matplotlib version :  2.2.3\n",
      "Scipy version :  1.1.0\n",
      "Sklearn version :  0.19.2\n",
      "Seaborn version :  0.9.0\n"
     ]
    }
   ],
   "source": [
    "# Checking versions of Libraries\n",
    "\n",
    "# Python version\n",
    "import sys\n",
    "print(\"Python version : \", sys.version)\n",
    "\n",
    "# Numpy\n",
    "import numpy as np\n",
    "print(\"Numpy version : \", np.__version__)\n",
    "\n",
    "# Pandas\n",
    "import pandas as pd\n",
    "print(\"Pandas version : \", pd.__version__)\n",
    "\n",
    "# Matplotlib\n",
    "import matplotlib\n",
    "print(\"Matplotlib version : \", matplotlib.__version__)\n",
    "\n",
    "# Scipy\n",
    "import scipy\n",
    "print(\"Scipy version : \", scipy.__version__)\n",
    "\n",
    "# Sklearn\n",
    "import sklearn\n",
    "print(\"Sklearn version : \", sklearn.__version__)\n",
    "\n",
    "#Seaborn\n",
    "import seaborn as sb\n",
    "print(\"Seaborn version : \", sb.__version__)"
   ]
  },
  {
   "cell_type": "code",
   "execution_count": 2,
   "metadata": {},
   "outputs": [
    {
     "name": "stdout",
     "output_type": "stream",
     "text": [
      ".......................................Successfully imported libraries........................................\n"
     ]
    },
    {
     "name": "stderr",
     "output_type": "stream",
     "text": [
      "C:\\Anaconda\\lib\\site-packages\\sklearn\\ensemble\\weight_boosting.py:29: DeprecationWarning: numpy.core.umath_tests is an internal NumPy module and should not be imported. It will be removed in a future NumPy release.\n",
      "  from numpy.core.umath_tests import inner1d\n"
     ]
    }
   ],
   "source": [
    "# Importing Libraries\n",
    "import time\n",
    "from geopy.geocoders import Nominatim\n",
    "import re\n",
    "import datetime\n",
    "import pandas as pd\n",
    "from pandas.plotting import scatter_matrix\n",
    "import matplotlib.pyplot as plt\n",
    "from sklearn import model_selection\n",
    "from sklearn.model_selection import train_test_split\n",
    "from sklearn.model_selection import KFold\n",
    "\n",
    "# metrics\n",
    "from sklearn.metrics import classification_report\n",
    "from sklearn.metrics import confusion_matrix\n",
    "from sklearn.metrics import accuracy_score\n",
    "from sklearn.metrics import roc_auc_score\n",
    "from sklearn.metrics import roc_curve\n",
    "from sklearn.preprocessing import label_binarize\n",
    "\n",
    "# classifiers\n",
    "\n",
    "# K-Nearest Neighbour\n",
    "from sklearn.neighbors import KNeighborsClassifier\n",
    "\n",
    "# naive bayes\n",
    "from sklearn.naive_bayes import GaussianNB\n",
    "from sklearn.naive_bayes import BernoulliNB\n",
    "\n",
    "# decision tree\n",
    "from sklearn.tree import DecisionTreeClassifier\n",
    "\n",
    "# ensemble models\n",
    "from sklearn.ensemble import RandomForestClassifier\n",
    "from sklearn.ensemble import GradientBoostingClassifier\n",
    "from xgboost import XGBClassifier\n",
    "print(\"Successfully imported libraries\".center(110,\".\"))"
   ]
  },
  {
   "cell_type": "code",
   "execution_count": 3,
   "metadata": {},
   "outputs": [
    {
     "name": "stdout",
     "output_type": "stream",
     "text": [
      "Size of Original Dataset : \n"
     ]
    },
    {
     "name": "stderr",
     "output_type": "stream",
     "text": [
      "C:\\Anaconda\\lib\\site-packages\\numpy\\lib\\arraysetops.py:522: FutureWarning: elementwise comparison failed; returning scalar instead, but in the future will perform elementwise comparison\n",
      "  mask |= (ar1 == a)\n"
     ]
    },
    {
     "name": "stdout",
     "output_type": "stream",
     "text": [
      "(1342995, 7)\n"
     ]
    }
   ],
   "source": [
    "# Importing the data \n",
    "\n",
    "# Original Dataset\n",
    "print(\"Size of Original Dataset : \")\n",
    "o_dataset = pd.read_csv(\"final_dataset.csv\", index_col = \"recordId\")\n",
    "print(o_dataset.shape)\n",
    "#sample Dataset\n",
    "#s_dataset = o_dataset.sample(n = 100000, replace = False, axis = 0)\n",
    "#s_dataset.to_csv(\"sample_911_12000r.csv\", index = False, encoding = \"utf-8\")\n",
    "#s_dataset.to_csv(\"sample_911.csv\", index = False, encoding = \"utf-8\")\n",
    "#s_dataset.to_csv(\"sample_final_dataset.csv\", index = False, encoding = \"utf-8\")"
   ]
  },
  {
   "cell_type": "code",
   "execution_count": 4,
   "metadata": {},
   "outputs": [
    {
     "data": {
      "text/html": [
       "<div>\n",
       "<style scoped>\n",
       "    .dataframe tbody tr th:only-of-type {\n",
       "        vertical-align: middle;\n",
       "    }\n",
       "\n",
       "    .dataframe tbody tr th {\n",
       "        vertical-align: top;\n",
       "    }\n",
       "\n",
       "    .dataframe thead th {\n",
       "        text-align: right;\n",
       "    }\n",
       "</style>\n",
       "<table border=\"1\" class=\"dataframe\">\n",
       "  <thead>\n",
       "    <tr style=\"text-align: right;\">\n",
       "      <th></th>\n",
       "      <th>callDateTime</th>\n",
       "      <th>priority</th>\n",
       "      <th>district</th>\n",
       "      <th>description</th>\n",
       "      <th>callNumber</th>\n",
       "      <th>incidentLocation</th>\n",
       "      <th>location</th>\n",
       "    </tr>\n",
       "    <tr>\n",
       "      <th>recordId</th>\n",
       "      <th></th>\n",
       "      <th></th>\n",
       "      <th></th>\n",
       "      <th></th>\n",
       "      <th></th>\n",
       "      <th></th>\n",
       "      <th></th>\n",
       "    </tr>\n",
       "  </thead>\n",
       "  <tbody>\n",
       "    <tr>\n",
       "      <th>4107136</th>\n",
       "      <td>01/01/2019 12:01:00 AM</td>\n",
       "      <td>Non-Emergency</td>\n",
       "      <td>ND</td>\n",
       "      <td>Business Check</td>\n",
       "      <td>P190010003</td>\n",
       "      <td>5100 YORK RD</td>\n",
       "      <td>5100 YORK RD\\nBALTIMORE, MD\\n(39.350595, -76.6...</td>\n",
       "    </tr>\n",
       "  </tbody>\n",
       "</table>\n",
       "</div>"
      ],
      "text/plain": [
       "                    callDateTime       priority district     description  \\\n",
       "recordId                                                                   \n",
       "4107136   01/01/2019 12:01:00 AM  Non-Emergency       ND  Business Check   \n",
       "\n",
       "          callNumber incidentLocation  \\\n",
       "recordId                                \n",
       "4107136   P190010003     5100 YORK RD   \n",
       "\n",
       "                                                   location  \n",
       "recordId                                                     \n",
       "4107136   5100 YORK RD\\nBALTIMORE, MD\\n(39.350595, -76.6...  "
      ]
     },
     "execution_count": 4,
     "metadata": {},
     "output_type": "execute_result"
    }
   ],
   "source": [
    "o_dataset.head(1)"
   ]
  },
  {
   "cell_type": "code",
   "execution_count": 5,
   "metadata": {},
   "outputs": [
    {
     "name": "stdout",
     "output_type": "stream",
     "text": [
      "Size of Sample Dataset : \n",
      "(100000, 7)\n"
     ]
    }
   ],
   "source": [
    "# Starting work on Sample Dataset\n",
    "print(\"Size of Sample Dataset : \")\n",
    "df = pd.read_csv(\"sample_final_dataset.csv\", index_col = \"recordId\")\n",
    "print(df.shape) # Shape of the dataset\n",
    "# sample dataset contains 1 lakh rows and 8 columns"
   ]
  },
  {
   "cell_type": "code",
   "execution_count": 6,
   "metadata": {},
   "outputs": [
    {
     "data": {
      "text/plain": [
       "array(['callDateTime', 'priority', 'district', 'description',\n",
       "       'callNumber', 'incidentLocation', 'location'], dtype=object)"
      ]
     },
     "execution_count": 6,
     "metadata": {},
     "output_type": "execute_result"
    }
   ],
   "source": [
    "df.columns.values"
   ]
  },
  {
   "cell_type": "code",
   "execution_count": 7,
   "metadata": {},
   "outputs": [
    {
     "data": {
      "text/plain": [
       "callDateTime        object\n",
       "priority            object\n",
       "district            object\n",
       "description         object\n",
       "callNumber          object\n",
       "incidentLocation    object\n",
       "location            object\n",
       "dtype: object"
      ]
     },
     "execution_count": 7,
     "metadata": {},
     "output_type": "execute_result"
    }
   ],
   "source": [
    "df.dtypes"
   ]
  },
  {
   "cell_type": "code",
   "execution_count": 8,
   "metadata": {},
   "outputs": [
    {
     "data": {
      "text/html": [
       "<div>\n",
       "<style scoped>\n",
       "    .dataframe tbody tr th:only-of-type {\n",
       "        vertical-align: middle;\n",
       "    }\n",
       "\n",
       "    .dataframe tbody tr th {\n",
       "        vertical-align: top;\n",
       "    }\n",
       "\n",
       "    .dataframe thead th {\n",
       "        text-align: right;\n",
       "    }\n",
       "</style>\n",
       "<table border=\"1\" class=\"dataframe\">\n",
       "  <thead>\n",
       "    <tr style=\"text-align: right;\">\n",
       "      <th></th>\n",
       "      <th>callDateTime</th>\n",
       "      <th>priority</th>\n",
       "      <th>district</th>\n",
       "      <th>description</th>\n",
       "      <th>callNumber</th>\n",
       "      <th>incidentLocation</th>\n",
       "      <th>location</th>\n",
       "    </tr>\n",
       "    <tr>\n",
       "      <th>recordId</th>\n",
       "      <th></th>\n",
       "      <th></th>\n",
       "      <th></th>\n",
       "      <th></th>\n",
       "      <th></th>\n",
       "      <th></th>\n",
       "      <th></th>\n",
       "    </tr>\n",
       "  </thead>\n",
       "  <tbody>\n",
       "    <tr>\n",
       "      <th>3917199</th>\n",
       "      <td>10/23/2018 09:35:00 AM</td>\n",
       "      <td>Medium</td>\n",
       "      <td>SW</td>\n",
       "      <td>911/NO  VOICE</td>\n",
       "      <td>P182960717</td>\n",
       "      <td>3600 W FRANKLIN ST</td>\n",
       "      <td>3600 W FRANKLIN ST\\nBALTIMORE, MD\\n(39.292646,...</td>\n",
       "    </tr>\n",
       "  </tbody>\n",
       "</table>\n",
       "</div>"
      ],
      "text/plain": [
       "                    callDateTime priority district    description  callNumber  \\\n",
       "recordId                                                                        \n",
       "3917199   10/23/2018 09:35:00 AM   Medium       SW  911/NO  VOICE  P182960717   \n",
       "\n",
       "            incidentLocation  \\\n",
       "recordId                       \n",
       "3917199   3600 W FRANKLIN ST   \n",
       "\n",
       "                                                   location  \n",
       "recordId                                                     \n",
       "3917199   3600 W FRANKLIN ST\\nBALTIMORE, MD\\n(39.292646,...  "
      ]
     },
     "execution_count": 8,
     "metadata": {},
     "output_type": "execute_result"
    }
   ],
   "source": [
    "df.head(1)"
   ]
  },
  {
   "cell_type": "code",
   "execution_count": 9,
   "metadata": {},
   "outputs": [
    {
     "data": {
      "text/html": [
       "<div>\n",
       "<style scoped>\n",
       "    .dataframe tbody tr th:only-of-type {\n",
       "        vertical-align: middle;\n",
       "    }\n",
       "\n",
       "    .dataframe tbody tr th {\n",
       "        vertical-align: top;\n",
       "    }\n",
       "\n",
       "    .dataframe thead th {\n",
       "        text-align: right;\n",
       "    }\n",
       "</style>\n",
       "<table border=\"1\" class=\"dataframe\">\n",
       "  <thead>\n",
       "    <tr style=\"text-align: right;\">\n",
       "      <th></th>\n",
       "      <th>callDateTime</th>\n",
       "      <th>district</th>\n",
       "      <th>description</th>\n",
       "      <th>callNumber</th>\n",
       "      <th>incidentLocation</th>\n",
       "      <th>location</th>\n",
       "      <th>priority</th>\n",
       "    </tr>\n",
       "    <tr>\n",
       "      <th>recordId</th>\n",
       "      <th></th>\n",
       "      <th></th>\n",
       "      <th></th>\n",
       "      <th></th>\n",
       "      <th></th>\n",
       "      <th></th>\n",
       "      <th></th>\n",
       "    </tr>\n",
       "  </thead>\n",
       "  <tbody>\n",
       "    <tr>\n",
       "      <th>3917199</th>\n",
       "      <td>10/23/2018 09:35:00 AM</td>\n",
       "      <td>SW</td>\n",
       "      <td>911/NO  VOICE</td>\n",
       "      <td>P182960717</td>\n",
       "      <td>3600 W FRANKLIN ST</td>\n",
       "      <td>3600 W FRANKLIN ST\\nBALTIMORE, MD\\n(39.292646,...</td>\n",
       "      <td>Medium</td>\n",
       "    </tr>\n",
       "  </tbody>\n",
       "</table>\n",
       "</div>"
      ],
      "text/plain": [
       "                    callDateTime district    description  callNumber  \\\n",
       "recordId                                                               \n",
       "3917199   10/23/2018 09:35:00 AM       SW  911/NO  VOICE  P182960717   \n",
       "\n",
       "            incidentLocation  \\\n",
       "recordId                       \n",
       "3917199   3600 W FRANKLIN ST   \n",
       "\n",
       "                                                   location priority  \n",
       "recordId                                                              \n",
       "3917199   3600 W FRANKLIN ST\\nBALTIMORE, MD\\n(39.292646,...   Medium  "
      ]
     },
     "execution_count": 9,
     "metadata": {},
     "output_type": "execute_result"
    }
   ],
   "source": [
    "# Rearranging Columns\n",
    "df = df[[\"callDateTime\", \"district\", \"description\",\"callNumber\",\"incidentLocation\",\"location\",\"priority\"]]\n",
    "df.head(1)"
   ]
  },
  {
   "cell_type": "code",
   "execution_count": 10,
   "metadata": {},
   "outputs": [
    {
     "data": {
      "text/html": [
       "<div>\n",
       "<style scoped>\n",
       "    .dataframe tbody tr th:only-of-type {\n",
       "        vertical-align: middle;\n",
       "    }\n",
       "\n",
       "    .dataframe tbody tr th {\n",
       "        vertical-align: top;\n",
       "    }\n",
       "\n",
       "    .dataframe thead th {\n",
       "        text-align: right;\n",
       "    }\n",
       "</style>\n",
       "<table border=\"1\" class=\"dataframe\">\n",
       "  <thead>\n",
       "    <tr style=\"text-align: right;\">\n",
       "      <th></th>\n",
       "      <th>callDateTime</th>\n",
       "      <th>district</th>\n",
       "      <th>description</th>\n",
       "      <th>callNumber</th>\n",
       "      <th>incidentLocation</th>\n",
       "      <th>location</th>\n",
       "      <th>priority</th>\n",
       "    </tr>\n",
       "    <tr>\n",
       "      <th>recordId</th>\n",
       "      <th></th>\n",
       "      <th></th>\n",
       "      <th></th>\n",
       "      <th></th>\n",
       "      <th></th>\n",
       "      <th></th>\n",
       "      <th></th>\n",
       "    </tr>\n",
       "  </thead>\n",
       "  <tbody>\n",
       "    <tr>\n",
       "      <th>3917199</th>\n",
       "      <td>10/23/2018 09:35:00 AM</td>\n",
       "      <td>SW</td>\n",
       "      <td>911/NO  VOICE</td>\n",
       "      <td>P182960717</td>\n",
       "      <td>3600 W FRANKLIN ST</td>\n",
       "      <td>3600 W FRANKLIN ST\\nBALTIMORE, MD\\n(39.292646,...</td>\n",
       "      <td>Medium</td>\n",
       "    </tr>\n",
       "    <tr>\n",
       "      <th>4060328</th>\n",
       "      <td>12/15/2018 09:16:00 AM</td>\n",
       "      <td>WD</td>\n",
       "      <td>SILENT ALARM</td>\n",
       "      <td>P183490699</td>\n",
       "      <td>2400 PENNSYLVANIA AV</td>\n",
       "      <td>2400 PENNSYLVANIA AV\\nBALTIMORE, MD\\n(39.30947...</td>\n",
       "      <td>High</td>\n",
       "    </tr>\n",
       "  </tbody>\n",
       "</table>\n",
       "</div>"
      ],
      "text/plain": [
       "                    callDateTime district    description  callNumber  \\\n",
       "recordId                                                               \n",
       "3917199   10/23/2018 09:35:00 AM       SW  911/NO  VOICE  P182960717   \n",
       "4060328   12/15/2018 09:16:00 AM       WD   SILENT ALARM  P183490699   \n",
       "\n",
       "              incidentLocation  \\\n",
       "recordId                         \n",
       "3917199     3600 W FRANKLIN ST   \n",
       "4060328   2400 PENNSYLVANIA AV   \n",
       "\n",
       "                                                   location priority  \n",
       "recordId                                                              \n",
       "3917199   3600 W FRANKLIN ST\\nBALTIMORE, MD\\n(39.292646,...   Medium  \n",
       "4060328   2400 PENNSYLVANIA AV\\nBALTIMORE, MD\\n(39.30947...     High  "
      ]
     },
     "execution_count": 10,
     "metadata": {},
     "output_type": "execute_result"
    }
   ],
   "source": [
    "# creating a copy of sample dataset to perform cleaning operations on it\n",
    "dummy_df = df\n",
    "dummy_df.head(2)"
   ]
  },
  {
   "cell_type": "markdown",
   "metadata": {},
   "source": [
    "### Feature Enginnering & Cleaning"
   ]
  },
  {
   "cell_type": "code",
   "execution_count": 11,
   "metadata": {},
   "outputs": [
    {
     "name": "stdout",
     "output_type": "stream",
     "text": [
      "(100000, 10)\n"
     ]
    },
    {
     "data": {
      "text/html": [
       "<div>\n",
       "<style scoped>\n",
       "    .dataframe tbody tr th:only-of-type {\n",
       "        vertical-align: middle;\n",
       "    }\n",
       "\n",
       "    .dataframe tbody tr th {\n",
       "        vertical-align: top;\n",
       "    }\n",
       "\n",
       "    .dataframe thead th {\n",
       "        text-align: right;\n",
       "    }\n",
       "</style>\n",
       "<table border=\"1\" class=\"dataframe\">\n",
       "  <thead>\n",
       "    <tr style=\"text-align: right;\">\n",
       "      <th></th>\n",
       "      <th>callDateTime</th>\n",
       "      <th>district</th>\n",
       "      <th>description</th>\n",
       "      <th>callNumber</th>\n",
       "      <th>incidentLocation</th>\n",
       "      <th>location</th>\n",
       "      <th>priority</th>\n",
       "      <th>Date</th>\n",
       "      <th>Time</th>\n",
       "      <th>Time_type</th>\n",
       "    </tr>\n",
       "    <tr>\n",
       "      <th>recordId</th>\n",
       "      <th></th>\n",
       "      <th></th>\n",
       "      <th></th>\n",
       "      <th></th>\n",
       "      <th></th>\n",
       "      <th></th>\n",
       "      <th></th>\n",
       "      <th></th>\n",
       "      <th></th>\n",
       "      <th></th>\n",
       "    </tr>\n",
       "  </thead>\n",
       "  <tbody>\n",
       "    <tr>\n",
       "      <th>3917199</th>\n",
       "      <td>10/23/2018 09:35:00 AM</td>\n",
       "      <td>SW</td>\n",
       "      <td>911/NO  VOICE</td>\n",
       "      <td>P182960717</td>\n",
       "      <td>3600 W FRANKLIN ST</td>\n",
       "      <td>3600 W FRANKLIN ST\\nBALTIMORE, MD\\n(39.292646,...</td>\n",
       "      <td>Medium</td>\n",
       "      <td>10/23/2018</td>\n",
       "      <td>09:35:00</td>\n",
       "      <td>AM</td>\n",
       "    </tr>\n",
       "    <tr>\n",
       "      <th>4060328</th>\n",
       "      <td>12/15/2018 09:16:00 AM</td>\n",
       "      <td>WD</td>\n",
       "      <td>SILENT ALARM</td>\n",
       "      <td>P183490699</td>\n",
       "      <td>2400 PENNSYLVANIA AV</td>\n",
       "      <td>2400 PENNSYLVANIA AV\\nBALTIMORE, MD\\n(39.30947...</td>\n",
       "      <td>High</td>\n",
       "      <td>12/15/2018</td>\n",
       "      <td>09:16:00</td>\n",
       "      <td>AM</td>\n",
       "    </tr>\n",
       "    <tr>\n",
       "      <th>3812097</th>\n",
       "      <td>09/15/2018 10:37:00 PM</td>\n",
       "      <td>CD</td>\n",
       "      <td>Private Tow</td>\n",
       "      <td>P182582915</td>\n",
       "      <td>0 W NORTH AV</td>\n",
       "      <td>0 W NORTH AV\\nBALTIMORE, MD</td>\n",
       "      <td>Non-Emergency</td>\n",
       "      <td>09/15/2018</td>\n",
       "      <td>10:37:00</td>\n",
       "      <td>PM</td>\n",
       "    </tr>\n",
       "  </tbody>\n",
       "</table>\n",
       "</div>"
      ],
      "text/plain": [
       "                    callDateTime district    description  callNumber  \\\n",
       "recordId                                                               \n",
       "3917199   10/23/2018 09:35:00 AM       SW  911/NO  VOICE  P182960717   \n",
       "4060328   12/15/2018 09:16:00 AM       WD   SILENT ALARM  P183490699   \n",
       "3812097   09/15/2018 10:37:00 PM       CD    Private Tow  P182582915   \n",
       "\n",
       "              incidentLocation  \\\n",
       "recordId                         \n",
       "3917199     3600 W FRANKLIN ST   \n",
       "4060328   2400 PENNSYLVANIA AV   \n",
       "3812097           0 W NORTH AV   \n",
       "\n",
       "                                                   location       priority  \\\n",
       "recordId                                                                     \n",
       "3917199   3600 W FRANKLIN ST\\nBALTIMORE, MD\\n(39.292646,...         Medium   \n",
       "4060328   2400 PENNSYLVANIA AV\\nBALTIMORE, MD\\n(39.30947...           High   \n",
       "3812097                         0 W NORTH AV\\nBALTIMORE, MD  Non-Emergency   \n",
       "\n",
       "                Date      Time Time_type  \n",
       "recordId                                  \n",
       "3917199   10/23/2018  09:35:00        AM  \n",
       "4060328   12/15/2018  09:16:00        AM  \n",
       "3812097   09/15/2018  10:37:00        PM  "
      ]
     },
     "execution_count": 11,
     "metadata": {},
     "output_type": "execute_result"
    }
   ],
   "source": [
    "# Extracting Features from 'callDateTime'\n",
    "\n",
    "dummy_df[\"Date\"] = dummy_df[\"callDateTime\"].apply(lambda x: str(x).split(\" \")[0].strip())\n",
    "dummy_df[\"Time\"] = dummy_df[\"callDateTime\"].apply(lambda x: str(x).split(\" \")[1].strip())\n",
    "dummy_df[\"Time_type\"] = dummy_df[\"callDateTime\"].apply(lambda x : str(x).split(\" \")[2].strip())\n",
    "print(dummy_df.shape)\n",
    "dummy_df.head(3)"
   ]
  },
  {
   "cell_type": "code",
   "execution_count": 12,
   "metadata": {},
   "outputs": [
    {
     "data": {
      "text/html": [
       "<div>\n",
       "<style scoped>\n",
       "    .dataframe tbody tr th:only-of-type {\n",
       "        vertical-align: middle;\n",
       "    }\n",
       "\n",
       "    .dataframe tbody tr th {\n",
       "        vertical-align: top;\n",
       "    }\n",
       "\n",
       "    .dataframe thead th {\n",
       "        text-align: right;\n",
       "    }\n",
       "</style>\n",
       "<table border=\"1\" class=\"dataframe\">\n",
       "  <thead>\n",
       "    <tr style=\"text-align: right;\">\n",
       "      <th></th>\n",
       "      <th>callDateTime</th>\n",
       "      <th>district</th>\n",
       "      <th>description</th>\n",
       "      <th>callNumber</th>\n",
       "      <th>incidentLocation</th>\n",
       "      <th>location</th>\n",
       "      <th>priority</th>\n",
       "      <th>Date</th>\n",
       "      <th>Time</th>\n",
       "      <th>Time_type</th>\n",
       "    </tr>\n",
       "    <tr>\n",
       "      <th>recordId</th>\n",
       "      <th></th>\n",
       "      <th></th>\n",
       "      <th></th>\n",
       "      <th></th>\n",
       "      <th></th>\n",
       "      <th></th>\n",
       "      <th></th>\n",
       "      <th></th>\n",
       "      <th></th>\n",
       "      <th></th>\n",
       "    </tr>\n",
       "  </thead>\n",
       "  <tbody>\n",
       "    <tr>\n",
       "      <th>3917199</th>\n",
       "      <td>10/23/2018 09:35:00 AM</td>\n",
       "      <td>SW</td>\n",
       "      <td>911/NO  VOICE</td>\n",
       "      <td>P182960717</td>\n",
       "      <td>3600 W FRANKLIN ST</td>\n",
       "      <td>3600 W FRANKLIN ST\\nBALTIMORE, MD\\n(39.292646,...</td>\n",
       "      <td>Medium</td>\n",
       "      <td>2018-10-23</td>\n",
       "      <td>09:35:00</td>\n",
       "      <td>AM</td>\n",
       "    </tr>\n",
       "    <tr>\n",
       "      <th>4060328</th>\n",
       "      <td>12/15/2018 09:16:00 AM</td>\n",
       "      <td>WD</td>\n",
       "      <td>SILENT ALARM</td>\n",
       "      <td>P183490699</td>\n",
       "      <td>2400 PENNSYLVANIA AV</td>\n",
       "      <td>2400 PENNSYLVANIA AV\\nBALTIMORE, MD\\n(39.30947...</td>\n",
       "      <td>High</td>\n",
       "      <td>2018-12-15</td>\n",
       "      <td>09:16:00</td>\n",
       "      <td>AM</td>\n",
       "    </tr>\n",
       "  </tbody>\n",
       "</table>\n",
       "</div>"
      ],
      "text/plain": [
       "                    callDateTime district    description  callNumber  \\\n",
       "recordId                                                               \n",
       "3917199   10/23/2018 09:35:00 AM       SW  911/NO  VOICE  P182960717   \n",
       "4060328   12/15/2018 09:16:00 AM       WD   SILENT ALARM  P183490699   \n",
       "\n",
       "              incidentLocation  \\\n",
       "recordId                         \n",
       "3917199     3600 W FRANKLIN ST   \n",
       "4060328   2400 PENNSYLVANIA AV   \n",
       "\n",
       "                                                   location priority  \\\n",
       "recordId                                                               \n",
       "3917199   3600 W FRANKLIN ST\\nBALTIMORE, MD\\n(39.292646,...   Medium   \n",
       "4060328   2400 PENNSYLVANIA AV\\nBALTIMORE, MD\\n(39.30947...     High   \n",
       "\n",
       "                Date      Time Time_type  \n",
       "recordId                                  \n",
       "3917199   2018-10-23  09:35:00        AM  \n",
       "4060328   2018-12-15  09:16:00        AM  "
      ]
     },
     "execution_count": 12,
     "metadata": {},
     "output_type": "execute_result"
    }
   ],
   "source": [
    "# converting date to proper format\n",
    "# Overwriting the Exisiting Date column into a proper format to extract features out of it\n",
    "\n",
    "# date format should be \"%Y-%M-%d\"\n",
    "def convert_date(row):\n",
    "    if len(str(row.Date)) > 0:\n",
    "        if str(row.Date).find(\"/\") > 0:\n",
    "            temp = str(row.Date).split(\"/\")\n",
    "            #return temp\n",
    "            return(str(temp[2]) + \"-\" + str(temp[0]) + \"-\" + str(temp[1]))\n",
    "        elif str(row.Date).find(\"-\") > 0:\n",
    "            temp = str(row.Date).split(\"-\")\n",
    "            return(str(temp[0]) + \"-\" + str(temp[1]) + \"-\" + str(temp[2]))\n",
    "            #if len(str(temp[0]) == 4):\n",
    "            #    return(str(temp[0]) + \"-\" + str(temp[1]) + \"-\" + str(temp[2]))\n",
    "            #elif len(str(temp[0]) == 2):\n",
    "            #    return(str(temp[2]) + \"-\" + str(temp[0]) + \"-\" + str(temp[1]))\n",
    "\n",
    "dummy_df[\"Date\"] = dummy_df.apply(convert_date, axis = \"columns\")\n",
    "#date = dummy_df.apply(convert_date, axis = \"columns\")\n",
    "dummy_df.head(2)"
   ]
  },
  {
   "cell_type": "code",
   "execution_count": 13,
   "metadata": {},
   "outputs": [
    {
     "name": "stdout",
     "output_type": "stream",
     "text": [
      "(100000, 11)\n"
     ]
    },
    {
     "data": {
      "text/html": [
       "<div>\n",
       "<style scoped>\n",
       "    .dataframe tbody tr th:only-of-type {\n",
       "        vertical-align: middle;\n",
       "    }\n",
       "\n",
       "    .dataframe tbody tr th {\n",
       "        vertical-align: top;\n",
       "    }\n",
       "\n",
       "    .dataframe thead th {\n",
       "        text-align: right;\n",
       "    }\n",
       "</style>\n",
       "<table border=\"1\" class=\"dataframe\">\n",
       "  <thead>\n",
       "    <tr style=\"text-align: right;\">\n",
       "      <th></th>\n",
       "      <th>callDateTime</th>\n",
       "      <th>district</th>\n",
       "      <th>description</th>\n",
       "      <th>callNumber</th>\n",
       "      <th>incidentLocation</th>\n",
       "      <th>location</th>\n",
       "      <th>priority</th>\n",
       "      <th>Date</th>\n",
       "      <th>Time</th>\n",
       "      <th>Time_type</th>\n",
       "      <th>Day</th>\n",
       "    </tr>\n",
       "    <tr>\n",
       "      <th>recordId</th>\n",
       "      <th></th>\n",
       "      <th></th>\n",
       "      <th></th>\n",
       "      <th></th>\n",
       "      <th></th>\n",
       "      <th></th>\n",
       "      <th></th>\n",
       "      <th></th>\n",
       "      <th></th>\n",
       "      <th></th>\n",
       "      <th></th>\n",
       "    </tr>\n",
       "  </thead>\n",
       "  <tbody>\n",
       "    <tr>\n",
       "      <th>3917199</th>\n",
       "      <td>10/23/2018 09:35:00 AM</td>\n",
       "      <td>SW</td>\n",
       "      <td>911/NO  VOICE</td>\n",
       "      <td>P182960717</td>\n",
       "      <td>3600 W FRANKLIN ST</td>\n",
       "      <td>3600 W FRANKLIN ST\\nBALTIMORE, MD\\n(39.292646,...</td>\n",
       "      <td>Medium</td>\n",
       "      <td>2018-10-23</td>\n",
       "      <td>09:35:00</td>\n",
       "      <td>AM</td>\n",
       "      <td>Tuesday</td>\n",
       "    </tr>\n",
       "    <tr>\n",
       "      <th>4060328</th>\n",
       "      <td>12/15/2018 09:16:00 AM</td>\n",
       "      <td>WD</td>\n",
       "      <td>SILENT ALARM</td>\n",
       "      <td>P183490699</td>\n",
       "      <td>2400 PENNSYLVANIA AV</td>\n",
       "      <td>2400 PENNSYLVANIA AV\\nBALTIMORE, MD\\n(39.30947...</td>\n",
       "      <td>High</td>\n",
       "      <td>2018-12-15</td>\n",
       "      <td>09:16:00</td>\n",
       "      <td>AM</td>\n",
       "      <td>Monday</td>\n",
       "    </tr>\n",
       "  </tbody>\n",
       "</table>\n",
       "</div>"
      ],
      "text/plain": [
       "                    callDateTime district    description  callNumber  \\\n",
       "recordId                                                               \n",
       "3917199   10/23/2018 09:35:00 AM       SW  911/NO  VOICE  P182960717   \n",
       "4060328   12/15/2018 09:16:00 AM       WD   SILENT ALARM  P183490699   \n",
       "\n",
       "              incidentLocation  \\\n",
       "recordId                         \n",
       "3917199     3600 W FRANKLIN ST   \n",
       "4060328   2400 PENNSYLVANIA AV   \n",
       "\n",
       "                                                   location priority  \\\n",
       "recordId                                                               \n",
       "3917199   3600 W FRANKLIN ST\\nBALTIMORE, MD\\n(39.292646,...   Medium   \n",
       "4060328   2400 PENNSYLVANIA AV\\nBALTIMORE, MD\\n(39.30947...     High   \n",
       "\n",
       "                Date      Time Time_type      Day  \n",
       "recordId                                           \n",
       "3917199   2018-10-23  09:35:00        AM  Tuesday  \n",
       "4060328   2018-12-15  09:16:00        AM   Monday  "
      ]
     },
     "execution_count": 13,
     "metadata": {},
     "output_type": "execute_result"
    }
   ],
   "source": [
    "# converting date into days\n",
    "\n",
    "def date_to_day(row):\n",
    "    if len(str(row.Date)) > 0:\n",
    "        return datetime.datetime.strptime(row.Date,\"%Y-%M-%d\").strftime(\"%A\")\n",
    "\n",
    "dummy_df[\"Day\"] = dummy_df.apply(date_to_day, axis = \"columns\")\n",
    "print(dummy_df.shape)\n",
    "dummy_df.head(2)"
   ]
  },
  {
   "cell_type": "code",
   "execution_count": 14,
   "metadata": {},
   "outputs": [
    {
     "data": {
      "text/html": [
       "<div>\n",
       "<style scoped>\n",
       "    .dataframe tbody tr th:only-of-type {\n",
       "        vertical-align: middle;\n",
       "    }\n",
       "\n",
       "    .dataframe tbody tr th {\n",
       "        vertical-align: top;\n",
       "    }\n",
       "\n",
       "    .dataframe thead th {\n",
       "        text-align: right;\n",
       "    }\n",
       "</style>\n",
       "<table border=\"1\" class=\"dataframe\">\n",
       "  <thead>\n",
       "    <tr style=\"text-align: right;\">\n",
       "      <th></th>\n",
       "      <th>callDateTime</th>\n",
       "      <th>district</th>\n",
       "      <th>description</th>\n",
       "      <th>callNumber</th>\n",
       "      <th>incidentLocation</th>\n",
       "      <th>location</th>\n",
       "      <th>priority</th>\n",
       "      <th>Date</th>\n",
       "      <th>Time</th>\n",
       "      <th>Time_type</th>\n",
       "      <th>Day</th>\n",
       "      <th>timestamp</th>\n",
       "      <th>session</th>\n",
       "    </tr>\n",
       "    <tr>\n",
       "      <th>recordId</th>\n",
       "      <th></th>\n",
       "      <th></th>\n",
       "      <th></th>\n",
       "      <th></th>\n",
       "      <th></th>\n",
       "      <th></th>\n",
       "      <th></th>\n",
       "      <th></th>\n",
       "      <th></th>\n",
       "      <th></th>\n",
       "      <th></th>\n",
       "      <th></th>\n",
       "      <th></th>\n",
       "    </tr>\n",
       "  </thead>\n",
       "  <tbody>\n",
       "    <tr>\n",
       "      <th>3917199</th>\n",
       "      <td>10/23/2018 09:35:00 AM</td>\n",
       "      <td>SW</td>\n",
       "      <td>911/NO  VOICE</td>\n",
       "      <td>P182960717</td>\n",
       "      <td>3600 W FRANKLIN ST</td>\n",
       "      <td>3600 W FRANKLIN ST\\nBALTIMORE, MD\\n(39.292646,...</td>\n",
       "      <td>Medium</td>\n",
       "      <td>2018-10-23</td>\n",
       "      <td>09:35:00</td>\n",
       "      <td>AM</td>\n",
       "      <td>Tuesday</td>\n",
       "      <td>2018-10-23 09:35:00</td>\n",
       "      <td>Morning</td>\n",
       "    </tr>\n",
       "    <tr>\n",
       "      <th>4060328</th>\n",
       "      <td>12/15/2018 09:16:00 AM</td>\n",
       "      <td>WD</td>\n",
       "      <td>SILENT ALARM</td>\n",
       "      <td>P183490699</td>\n",
       "      <td>2400 PENNSYLVANIA AV</td>\n",
       "      <td>2400 PENNSYLVANIA AV\\nBALTIMORE, MD\\n(39.30947...</td>\n",
       "      <td>High</td>\n",
       "      <td>2018-12-15</td>\n",
       "      <td>09:16:00</td>\n",
       "      <td>AM</td>\n",
       "      <td>Monday</td>\n",
       "      <td>2018-12-15 09:16:00</td>\n",
       "      <td>Morning</td>\n",
       "    </tr>\n",
       "  </tbody>\n",
       "</table>\n",
       "</div>"
      ],
      "text/plain": [
       "                    callDateTime district    description  callNumber  \\\n",
       "recordId                                                               \n",
       "3917199   10/23/2018 09:35:00 AM       SW  911/NO  VOICE  P182960717   \n",
       "4060328   12/15/2018 09:16:00 AM       WD   SILENT ALARM  P183490699   \n",
       "\n",
       "              incidentLocation  \\\n",
       "recordId                         \n",
       "3917199     3600 W FRANKLIN ST   \n",
       "4060328   2400 PENNSYLVANIA AV   \n",
       "\n",
       "                                                   location priority  \\\n",
       "recordId                                                               \n",
       "3917199   3600 W FRANKLIN ST\\nBALTIMORE, MD\\n(39.292646,...   Medium   \n",
       "4060328   2400 PENNSYLVANIA AV\\nBALTIMORE, MD\\n(39.30947...     High   \n",
       "\n",
       "                Date      Time Time_type      Day           timestamp  session  \n",
       "recordId                                                                        \n",
       "3917199   2018-10-23  09:35:00        AM  Tuesday 2018-10-23 09:35:00  Morning  \n",
       "4060328   2018-12-15  09:16:00        AM   Monday 2018-12-15 09:16:00  Morning  "
      ]
     },
     "execution_count": 14,
     "metadata": {},
     "output_type": "execute_result"
    }
   ],
   "source": [
    "# converting time to sessions\n",
    "\n",
    "# converting time to 24 hour format\n",
    "dummy_df['timestamp'] = pd.to_datetime(dummy_df.callDateTime, format='%m/%d/%Y %I:%M:%S %p')\n",
    "\n",
    "#creating sessions out of 24 hour time format\n",
    "dummy_df[\"session\"] = pd.cut(dummy_df.timestamp.dt.hour,[0,6,12,18,24],labels=['Night','Morning','Afternoon','Evening'])\n",
    "\n",
    "dummy_df[\"session\"] = dummy_df[\"session\"].fillna(\"Night\")\n",
    "dummy_df.head(2)"
   ]
  },
  {
   "cell_type": "code",
   "execution_count": 15,
   "metadata": {},
   "outputs": [
    {
     "name": "stdout",
     "output_type": "stream",
     "text": [
      "Shape of dataset Before removing NA values :  (100000, 13)\n",
      "Shape of dataset After removing NA values :  (99850, 13)\n"
     ]
    }
   ],
   "source": [
    "# Dropping Na values from the dataset\n",
    "print(\"Shape of dataset Before removing NA values : \",dummy_df.shape)\n",
    "dummy_df = dummy_df.dropna(subset = [\"location\"])\n",
    "print(\"Shape of dataset After removing NA values : \",dummy_df.shape)"
   ]
  },
  {
   "cell_type": "code",
   "execution_count": 16,
   "metadata": {},
   "outputs": [
    {
     "name": "stderr",
     "output_type": "stream",
     "text": [
      "C:\\Anaconda\\lib\\site-packages\\ipykernel_launcher.py:17: SettingWithCopyWarning: \n",
      "A value is trying to be set on a copy of a slice from a DataFrame.\n",
      "Try using .loc[row_indexer,col_indexer] = value instead\n",
      "\n",
      "See the caveats in the documentation: http://pandas.pydata.org/pandas-docs/stable/indexing.html#indexing-view-versus-copy\n"
     ]
    },
    {
     "data": {
      "text/html": [
       "<div>\n",
       "<style scoped>\n",
       "    .dataframe tbody tr th:only-of-type {\n",
       "        vertical-align: middle;\n",
       "    }\n",
       "\n",
       "    .dataframe tbody tr th {\n",
       "        vertical-align: top;\n",
       "    }\n",
       "\n",
       "    .dataframe thead th {\n",
       "        text-align: right;\n",
       "    }\n",
       "</style>\n",
       "<table border=\"1\" class=\"dataframe\">\n",
       "  <thead>\n",
       "    <tr style=\"text-align: right;\">\n",
       "      <th></th>\n",
       "      <th>callDateTime</th>\n",
       "      <th>district</th>\n",
       "      <th>description</th>\n",
       "      <th>callNumber</th>\n",
       "      <th>incidentLocation</th>\n",
       "      <th>location</th>\n",
       "      <th>priority</th>\n",
       "      <th>Date</th>\n",
       "      <th>Time</th>\n",
       "      <th>Time_type</th>\n",
       "      <th>Day</th>\n",
       "      <th>timestamp</th>\n",
       "      <th>session</th>\n",
       "      <th>ext_location</th>\n",
       "    </tr>\n",
       "    <tr>\n",
       "      <th>recordId</th>\n",
       "      <th></th>\n",
       "      <th></th>\n",
       "      <th></th>\n",
       "      <th></th>\n",
       "      <th></th>\n",
       "      <th></th>\n",
       "      <th></th>\n",
       "      <th></th>\n",
       "      <th></th>\n",
       "      <th></th>\n",
       "      <th></th>\n",
       "      <th></th>\n",
       "      <th></th>\n",
       "      <th></th>\n",
       "    </tr>\n",
       "  </thead>\n",
       "  <tbody>\n",
       "    <tr>\n",
       "      <th>3917199</th>\n",
       "      <td>10/23/2018 09:35:00 AM</td>\n",
       "      <td>SW</td>\n",
       "      <td>911/NO  VOICE</td>\n",
       "      <td>P182960717</td>\n",
       "      <td>3600 W FRANKLIN ST</td>\n",
       "      <td>3600 W FRANKLIN ST\\nBALTIMORE, MD\\n(39.292646,...</td>\n",
       "      <td>Medium</td>\n",
       "      <td>2018-10-23</td>\n",
       "      <td>09:35:00</td>\n",
       "      <td>AM</td>\n",
       "      <td>Tuesday</td>\n",
       "      <td>2018-10-23 09:35:00</td>\n",
       "      <td>Morning</td>\n",
       "      <td>39.292646,-76.677151</td>\n",
       "    </tr>\n",
       "    <tr>\n",
       "      <th>4060328</th>\n",
       "      <td>12/15/2018 09:16:00 AM</td>\n",
       "      <td>WD</td>\n",
       "      <td>SILENT ALARM</td>\n",
       "      <td>P183490699</td>\n",
       "      <td>2400 PENNSYLVANIA AV</td>\n",
       "      <td>2400 PENNSYLVANIA AV\\nBALTIMORE, MD\\n(39.30947...</td>\n",
       "      <td>High</td>\n",
       "      <td>2018-12-15</td>\n",
       "      <td>09:16:00</td>\n",
       "      <td>AM</td>\n",
       "      <td>Monday</td>\n",
       "      <td>2018-12-15 09:16:00</td>\n",
       "      <td>Morning</td>\n",
       "      <td>39.309471,-76.641835</td>\n",
       "    </tr>\n",
       "  </tbody>\n",
       "</table>\n",
       "</div>"
      ],
      "text/plain": [
       "                    callDateTime district    description  callNumber  \\\n",
       "recordId                                                               \n",
       "3917199   10/23/2018 09:35:00 AM       SW  911/NO  VOICE  P182960717   \n",
       "4060328   12/15/2018 09:16:00 AM       WD   SILENT ALARM  P183490699   \n",
       "\n",
       "              incidentLocation  \\\n",
       "recordId                         \n",
       "3917199     3600 W FRANKLIN ST   \n",
       "4060328   2400 PENNSYLVANIA AV   \n",
       "\n",
       "                                                   location priority  \\\n",
       "recordId                                                               \n",
       "3917199   3600 W FRANKLIN ST\\nBALTIMORE, MD\\n(39.292646,...   Medium   \n",
       "4060328   2400 PENNSYLVANIA AV\\nBALTIMORE, MD\\n(39.30947...     High   \n",
       "\n",
       "                Date      Time Time_type      Day           timestamp  \\\n",
       "recordId                                                                \n",
       "3917199   2018-10-23  09:35:00        AM  Tuesday 2018-10-23 09:35:00   \n",
       "4060328   2018-12-15  09:16:00        AM   Monday 2018-12-15 09:16:00   \n",
       "\n",
       "          session          ext_location  \n",
       "recordId                                 \n",
       "3917199   Morning  39.292646,-76.677151  \n",
       "4060328   Morning  39.309471,-76.641835  "
      ]
     },
     "execution_count": 16,
     "metadata": {},
     "output_type": "execute_result"
    }
   ],
   "source": [
    "# Extracting Features from location\n",
    "# Extrcted latitude and longitude out of location by removing unnecessary string values\n",
    "\n",
    "def extract_location(row):\n",
    "    if len(str(row.location)) > 4:\n",
    "        if row.location.partition(\"(\")[-1][:-1] == \"\":\n",
    "            return (\"none,none\")\n",
    "        else:\n",
    "            temp = row.location.partition(\"(\")[-1][:-1]\n",
    "            temp = temp.split(\",\")\n",
    "            latitude = temp[0].strip()\n",
    "            longitude = temp[1].strip()\n",
    "            return (latitude + \",\" + longitude)\n",
    "    else:\n",
    "        return(\"none,none\")\n",
    "        \n",
    "dummy_df[\"ext_location\"] = dummy_df.apply(extract_location, axis = \"columns\")\n",
    "dummy_df.head(2)"
   ]
  },
  {
   "cell_type": "code",
   "execution_count": 17,
   "metadata": {},
   "outputs": [
    {
     "name": "stdout",
     "output_type": "stream",
     "text": [
      "Shape of Dataset before removing NONE values :  (99850, 14)\n",
      "Shape of Dataset after removing NONE values :  (77489, 14)\n"
     ]
    }
   ],
   "source": [
    "# Cleaning Values from dataset where latitude and longitude not found\n",
    "print(\"Shape of Dataset before removing NONE values : \", dummy_df.shape)\n",
    "dummy_df = dummy_df[dummy_df[\"ext_location\"] != \"none,none\"]\n",
    "print(\"Shape of Dataset after removing NONE values : \", dummy_df.shape)"
   ]
  },
  {
   "cell_type": "code",
   "execution_count": 18,
   "metadata": {},
   "outputs": [
    {
     "name": "stdout",
     "output_type": "stream",
     "text": [
      "(77489, 16)\n"
     ]
    },
    {
     "data": {
      "text/html": [
       "<div>\n",
       "<style scoped>\n",
       "    .dataframe tbody tr th:only-of-type {\n",
       "        vertical-align: middle;\n",
       "    }\n",
       "\n",
       "    .dataframe tbody tr th {\n",
       "        vertical-align: top;\n",
       "    }\n",
       "\n",
       "    .dataframe thead th {\n",
       "        text-align: right;\n",
       "    }\n",
       "</style>\n",
       "<table border=\"1\" class=\"dataframe\">\n",
       "  <thead>\n",
       "    <tr style=\"text-align: right;\">\n",
       "      <th></th>\n",
       "      <th>callDateTime</th>\n",
       "      <th>district</th>\n",
       "      <th>description</th>\n",
       "      <th>callNumber</th>\n",
       "      <th>incidentLocation</th>\n",
       "      <th>location</th>\n",
       "      <th>priority</th>\n",
       "      <th>Date</th>\n",
       "      <th>Time</th>\n",
       "      <th>Time_type</th>\n",
       "      <th>Day</th>\n",
       "      <th>timestamp</th>\n",
       "      <th>session</th>\n",
       "      <th>ext_location</th>\n",
       "      <th>latitude</th>\n",
       "      <th>longitude</th>\n",
       "    </tr>\n",
       "    <tr>\n",
       "      <th>recordId</th>\n",
       "      <th></th>\n",
       "      <th></th>\n",
       "      <th></th>\n",
       "      <th></th>\n",
       "      <th></th>\n",
       "      <th></th>\n",
       "      <th></th>\n",
       "      <th></th>\n",
       "      <th></th>\n",
       "      <th></th>\n",
       "      <th></th>\n",
       "      <th></th>\n",
       "      <th></th>\n",
       "      <th></th>\n",
       "      <th></th>\n",
       "      <th></th>\n",
       "    </tr>\n",
       "  </thead>\n",
       "  <tbody>\n",
       "    <tr>\n",
       "      <th>3917199</th>\n",
       "      <td>10/23/2018 09:35:00 AM</td>\n",
       "      <td>SW</td>\n",
       "      <td>911/NO  VOICE</td>\n",
       "      <td>P182960717</td>\n",
       "      <td>3600 W FRANKLIN ST</td>\n",
       "      <td>3600 W FRANKLIN ST\\nBALTIMORE, MD\\n(39.292646,...</td>\n",
       "      <td>Medium</td>\n",
       "      <td>2018-10-23</td>\n",
       "      <td>09:35:00</td>\n",
       "      <td>AM</td>\n",
       "      <td>Tuesday</td>\n",
       "      <td>2018-10-23 09:35:00</td>\n",
       "      <td>Morning</td>\n",
       "      <td>39.292646,-76.677151</td>\n",
       "      <td>39.292646</td>\n",
       "      <td>-76.677151</td>\n",
       "    </tr>\n",
       "    <tr>\n",
       "      <th>4060328</th>\n",
       "      <td>12/15/2018 09:16:00 AM</td>\n",
       "      <td>WD</td>\n",
       "      <td>SILENT ALARM</td>\n",
       "      <td>P183490699</td>\n",
       "      <td>2400 PENNSYLVANIA AV</td>\n",
       "      <td>2400 PENNSYLVANIA AV\\nBALTIMORE, MD\\n(39.30947...</td>\n",
       "      <td>High</td>\n",
       "      <td>2018-12-15</td>\n",
       "      <td>09:16:00</td>\n",
       "      <td>AM</td>\n",
       "      <td>Monday</td>\n",
       "      <td>2018-12-15 09:16:00</td>\n",
       "      <td>Morning</td>\n",
       "      <td>39.309471,-76.641835</td>\n",
       "      <td>39.309471</td>\n",
       "      <td>-76.641835</td>\n",
       "    </tr>\n",
       "  </tbody>\n",
       "</table>\n",
       "</div>"
      ],
      "text/plain": [
       "                    callDateTime district    description  callNumber  \\\n",
       "recordId                                                               \n",
       "3917199   10/23/2018 09:35:00 AM       SW  911/NO  VOICE  P182960717   \n",
       "4060328   12/15/2018 09:16:00 AM       WD   SILENT ALARM  P183490699   \n",
       "\n",
       "              incidentLocation  \\\n",
       "recordId                         \n",
       "3917199     3600 W FRANKLIN ST   \n",
       "4060328   2400 PENNSYLVANIA AV   \n",
       "\n",
       "                                                   location priority  \\\n",
       "recordId                                                               \n",
       "3917199   3600 W FRANKLIN ST\\nBALTIMORE, MD\\n(39.292646,...   Medium   \n",
       "4060328   2400 PENNSYLVANIA AV\\nBALTIMORE, MD\\n(39.30947...     High   \n",
       "\n",
       "                Date      Time Time_type      Day           timestamp  \\\n",
       "recordId                                                                \n",
       "3917199   2018-10-23  09:35:00        AM  Tuesday 2018-10-23 09:35:00   \n",
       "4060328   2018-12-15  09:16:00        AM   Monday 2018-12-15 09:16:00   \n",
       "\n",
       "          session          ext_location   latitude   longitude  \n",
       "recordId                                                        \n",
       "3917199   Morning  39.292646,-76.677151  39.292646  -76.677151  \n",
       "4060328   Morning  39.309471,-76.641835  39.309471  -76.641835  "
      ]
     },
     "execution_count": 18,
     "metadata": {},
     "output_type": "execute_result"
    }
   ],
   "source": [
    "# extracting latitude and longitude out of ext_location\n",
    "dummy_df[\"latitude\"] = dummy_df[\"ext_location\"].apply(lambda x: str(x.split(\",\")[0]))\n",
    "dummy_df[\"longitude\"] = dummy_df[\"ext_location\"].apply(lambda x: str(x.split(\",\")[1]))\n",
    "print(dummy_df.shape)\n",
    "dummy_df.head(2)"
   ]
  },
  {
   "cell_type": "code",
   "execution_count": 19,
   "metadata": {},
   "outputs": [
    {
     "data": {
      "text/plain": [
       "(77485, 16)"
      ]
     },
     "execution_count": 19,
     "metadata": {},
     "output_type": "execute_result"
    }
   ],
   "source": [
    "# removing columns where latitude and longitude not found\n",
    "\n",
    "dummy_df = dummy_df[dummy_df[\"latitude\"] != \"FORMER LOCATION) BALTIMORE\"]\n",
    "dummy_df = dummy_df[dummy_df[\"latitude\"] != \"CURRENT LOCATION) BALTIMORE\"]\n",
    "dummy_df = dummy_df[dummy_df[\"latitude\"] != \"FORMER LOC BALTIMORE\"]\n",
    "dummy_df.shape"
   ]
  },
  {
   "cell_type": "code",
   "execution_count": 20,
   "metadata": {},
   "outputs": [
    {
     "data": {
      "text/plain": [
       "callDateTime                object\n",
       "district                    object\n",
       "description                 object\n",
       "callNumber                  object\n",
       "incidentLocation            object\n",
       "location                    object\n",
       "priority                    object\n",
       "Date                        object\n",
       "Time                        object\n",
       "Time_type                   object\n",
       "Day                         object\n",
       "timestamp           datetime64[ns]\n",
       "session                   category\n",
       "ext_location                object\n",
       "latitude                   float64\n",
       "longitude                  float64\n",
       "dtype: object"
      ]
     },
     "execution_count": 20,
     "metadata": {},
     "output_type": "execute_result"
    }
   ],
   "source": [
    "# converting latitude and longitude to numeric values\n",
    "\n",
    "dummy_df.latitude = pd.to_numeric(dummy_df.latitude)\n",
    "dummy_df.longitude = pd.to_numeric(dummy_df.longitude)\n",
    "dummy_df.dtypes"
   ]
  },
  {
   "cell_type": "code",
   "execution_count": 21,
   "metadata": {},
   "outputs": [
    {
     "name": "stdout",
     "output_type": "stream",
     "text": [
      "(77485, 17)\n"
     ]
    },
    {
     "data": {
      "text/html": [
       "<div>\n",
       "<style scoped>\n",
       "    .dataframe tbody tr th:only-of-type {\n",
       "        vertical-align: middle;\n",
       "    }\n",
       "\n",
       "    .dataframe tbody tr th {\n",
       "        vertical-align: top;\n",
       "    }\n",
       "\n",
       "    .dataframe thead th {\n",
       "        text-align: right;\n",
       "    }\n",
       "</style>\n",
       "<table border=\"1\" class=\"dataframe\">\n",
       "  <thead>\n",
       "    <tr style=\"text-align: right;\">\n",
       "      <th></th>\n",
       "      <th>callDateTime</th>\n",
       "      <th>district</th>\n",
       "      <th>description</th>\n",
       "      <th>callNumber</th>\n",
       "      <th>incidentLocation</th>\n",
       "      <th>location</th>\n",
       "      <th>priority</th>\n",
       "      <th>Date</th>\n",
       "      <th>Time</th>\n",
       "      <th>Time_type</th>\n",
       "      <th>Day</th>\n",
       "      <th>timestamp</th>\n",
       "      <th>session</th>\n",
       "      <th>ext_location</th>\n",
       "      <th>latitude</th>\n",
       "      <th>longitude</th>\n",
       "      <th>call_number</th>\n",
       "    </tr>\n",
       "    <tr>\n",
       "      <th>recordId</th>\n",
       "      <th></th>\n",
       "      <th></th>\n",
       "      <th></th>\n",
       "      <th></th>\n",
       "      <th></th>\n",
       "      <th></th>\n",
       "      <th></th>\n",
       "      <th></th>\n",
       "      <th></th>\n",
       "      <th></th>\n",
       "      <th></th>\n",
       "      <th></th>\n",
       "      <th></th>\n",
       "      <th></th>\n",
       "      <th></th>\n",
       "      <th></th>\n",
       "      <th></th>\n",
       "    </tr>\n",
       "  </thead>\n",
       "  <tbody>\n",
       "    <tr>\n",
       "      <th>3917199</th>\n",
       "      <td>10/23/2018 09:35:00 AM</td>\n",
       "      <td>SW</td>\n",
       "      <td>911/NO  VOICE</td>\n",
       "      <td>P182960717</td>\n",
       "      <td>3600 W FRANKLIN ST</td>\n",
       "      <td>3600 W FRANKLIN ST\\nBALTIMORE, MD\\n(39.292646,...</td>\n",
       "      <td>Medium</td>\n",
       "      <td>2018-10-23</td>\n",
       "      <td>09:35:00</td>\n",
       "      <td>AM</td>\n",
       "      <td>Tuesday</td>\n",
       "      <td>2018-10-23 09:35:00</td>\n",
       "      <td>Morning</td>\n",
       "      <td>39.292646,-76.677151</td>\n",
       "      <td>39.292646</td>\n",
       "      <td>-76.677151</td>\n",
       "      <td>182960717</td>\n",
       "    </tr>\n",
       "    <tr>\n",
       "      <th>4060328</th>\n",
       "      <td>12/15/2018 09:16:00 AM</td>\n",
       "      <td>WD</td>\n",
       "      <td>SILENT ALARM</td>\n",
       "      <td>P183490699</td>\n",
       "      <td>2400 PENNSYLVANIA AV</td>\n",
       "      <td>2400 PENNSYLVANIA AV\\nBALTIMORE, MD\\n(39.30947...</td>\n",
       "      <td>High</td>\n",
       "      <td>2018-12-15</td>\n",
       "      <td>09:16:00</td>\n",
       "      <td>AM</td>\n",
       "      <td>Monday</td>\n",
       "      <td>2018-12-15 09:16:00</td>\n",
       "      <td>Morning</td>\n",
       "      <td>39.309471,-76.641835</td>\n",
       "      <td>39.309471</td>\n",
       "      <td>-76.641835</td>\n",
       "      <td>183490699</td>\n",
       "    </tr>\n",
       "  </tbody>\n",
       "</table>\n",
       "</div>"
      ],
      "text/plain": [
       "                    callDateTime district    description  callNumber  \\\n",
       "recordId                                                               \n",
       "3917199   10/23/2018 09:35:00 AM       SW  911/NO  VOICE  P182960717   \n",
       "4060328   12/15/2018 09:16:00 AM       WD   SILENT ALARM  P183490699   \n",
       "\n",
       "              incidentLocation  \\\n",
       "recordId                         \n",
       "3917199     3600 W FRANKLIN ST   \n",
       "4060328   2400 PENNSYLVANIA AV   \n",
       "\n",
       "                                                   location priority  \\\n",
       "recordId                                                               \n",
       "3917199   3600 W FRANKLIN ST\\nBALTIMORE, MD\\n(39.292646,...   Medium   \n",
       "4060328   2400 PENNSYLVANIA AV\\nBALTIMORE, MD\\n(39.30947...     High   \n",
       "\n",
       "                Date      Time Time_type      Day           timestamp  \\\n",
       "recordId                                                                \n",
       "3917199   2018-10-23  09:35:00        AM  Tuesday 2018-10-23 09:35:00   \n",
       "4060328   2018-12-15  09:16:00        AM   Monday 2018-12-15 09:16:00   \n",
       "\n",
       "          session          ext_location   latitude  longitude call_number  \n",
       "recordId                                                                   \n",
       "3917199   Morning  39.292646,-76.677151  39.292646 -76.677151   182960717  \n",
       "4060328   Morning  39.309471,-76.641835  39.309471 -76.641835   183490699  "
      ]
     },
     "execution_count": 21,
     "metadata": {},
     "output_type": "execute_result"
    }
   ],
   "source": [
    "# Cleaning Call Number\n",
    "\n",
    "def clean_call(row):\n",
    "    if bool(re.match(\"P\",row.callNumber)):\n",
    "        return row.callNumber[1:]\n",
    "    else:\n",
    "        return row.callNumber\n",
    "\n",
    "dummy_df[\"call_number\"] = dummy_df.apply(clean_call, axis = \"columns\")\n",
    "print(dummy_df.shape)\n",
    "dummy_df.head(2)"
   ]
  },
  {
   "cell_type": "code",
   "execution_count": 22,
   "metadata": {},
   "outputs": [
    {
     "data": {
      "text/plain": [
       "['callDateTime',\n",
       " 'district',\n",
       " 'description',\n",
       " 'callNumber',\n",
       " 'incidentLocation',\n",
       " 'location',\n",
       " 'priority',\n",
       " 'Date',\n",
       " 'Time',\n",
       " 'Time_type',\n",
       " 'Day',\n",
       " 'timestamp',\n",
       " 'session',\n",
       " 'ext_location',\n",
       " 'latitude',\n",
       " 'longitude',\n",
       " 'call_number']"
      ]
     },
     "execution_count": 22,
     "metadata": {},
     "output_type": "execute_result"
    }
   ],
   "source": [
    "dummy_df.columns.values.tolist()"
   ]
  },
  {
   "cell_type": "code",
   "execution_count": 23,
   "metadata": {},
   "outputs": [
    {
     "data": {
      "text/plain": [
       "['callDateTime',\n",
       " 'Date',\n",
       " 'Day',\n",
       " 'timestamp',\n",
       " 'Time',\n",
       " 'Time_type',\n",
       " 'session',\n",
       " 'callNumber',\n",
       " 'call_number',\n",
       " 'district',\n",
       " 'description',\n",
       " 'incidentLocation',\n",
       " 'location',\n",
       " 'ext_location',\n",
       " 'latitude',\n",
       " 'longitude',\n",
       " 'priority']"
      ]
     },
     "execution_count": 23,
     "metadata": {},
     "output_type": "execute_result"
    }
   ],
   "source": [
    "# Reordering the whole dataset columns\n",
    "dummy_df = dummy_df[[\"callDateTime\",\"Date\",\"Day\",\"timestamp\",\"Time\",\"Time_type\",\"session\",\"callNumber\",\"call_number\",\"district\",\"description\",\"incidentLocation\",\"location\",\"ext_location\",\"latitude\",\"longitude\",\"priority\"]]\n",
    "dummy_df.columns.values.tolist()"
   ]
  },
  {
   "cell_type": "code",
   "execution_count": 24,
   "metadata": {},
   "outputs": [
    {
     "data": {
      "text/html": [
       "<div>\n",
       "<style scoped>\n",
       "    .dataframe tbody tr th:only-of-type {\n",
       "        vertical-align: middle;\n",
       "    }\n",
       "\n",
       "    .dataframe tbody tr th {\n",
       "        vertical-align: top;\n",
       "    }\n",
       "\n",
       "    .dataframe thead th {\n",
       "        text-align: right;\n",
       "    }\n",
       "</style>\n",
       "<table border=\"1\" class=\"dataframe\">\n",
       "  <thead>\n",
       "    <tr style=\"text-align: right;\">\n",
       "      <th></th>\n",
       "      <th>callDateTime</th>\n",
       "      <th>Date</th>\n",
       "      <th>Day</th>\n",
       "      <th>timestamp</th>\n",
       "      <th>Time</th>\n",
       "      <th>Time_type</th>\n",
       "      <th>session</th>\n",
       "      <th>callNumber</th>\n",
       "      <th>call_number</th>\n",
       "      <th>district</th>\n",
       "      <th>description</th>\n",
       "      <th>incidentLocation</th>\n",
       "      <th>location</th>\n",
       "      <th>ext_location</th>\n",
       "      <th>latitude</th>\n",
       "      <th>longitude</th>\n",
       "      <th>priority</th>\n",
       "    </tr>\n",
       "    <tr>\n",
       "      <th>recordId</th>\n",
       "      <th></th>\n",
       "      <th></th>\n",
       "      <th></th>\n",
       "      <th></th>\n",
       "      <th></th>\n",
       "      <th></th>\n",
       "      <th></th>\n",
       "      <th></th>\n",
       "      <th></th>\n",
       "      <th></th>\n",
       "      <th></th>\n",
       "      <th></th>\n",
       "      <th></th>\n",
       "      <th></th>\n",
       "      <th></th>\n",
       "      <th></th>\n",
       "      <th></th>\n",
       "    </tr>\n",
       "  </thead>\n",
       "  <tbody>\n",
       "    <tr>\n",
       "      <th>3917199</th>\n",
       "      <td>10/23/2018 09:35:00 AM</td>\n",
       "      <td>2018-10-23</td>\n",
       "      <td>Tuesday</td>\n",
       "      <td>2018-10-23 09:35:00</td>\n",
       "      <td>09:35:00</td>\n",
       "      <td>AM</td>\n",
       "      <td>Morning</td>\n",
       "      <td>P182960717</td>\n",
       "      <td>182960717</td>\n",
       "      <td>SW</td>\n",
       "      <td>911/NO  VOICE</td>\n",
       "      <td>3600 W FRANKLIN ST</td>\n",
       "      <td>3600 W FRANKLIN ST\\nBALTIMORE, MD\\n(39.292646,...</td>\n",
       "      <td>39.292646,-76.677151</td>\n",
       "      <td>39.292646</td>\n",
       "      <td>-76.677151</td>\n",
       "      <td>Medium</td>\n",
       "    </tr>\n",
       "    <tr>\n",
       "      <th>4060328</th>\n",
       "      <td>12/15/2018 09:16:00 AM</td>\n",
       "      <td>2018-12-15</td>\n",
       "      <td>Monday</td>\n",
       "      <td>2018-12-15 09:16:00</td>\n",
       "      <td>09:16:00</td>\n",
       "      <td>AM</td>\n",
       "      <td>Morning</td>\n",
       "      <td>P183490699</td>\n",
       "      <td>183490699</td>\n",
       "      <td>WD</td>\n",
       "      <td>SILENT ALARM</td>\n",
       "      <td>2400 PENNSYLVANIA AV</td>\n",
       "      <td>2400 PENNSYLVANIA AV\\nBALTIMORE, MD\\n(39.30947...</td>\n",
       "      <td>39.309471,-76.641835</td>\n",
       "      <td>39.309471</td>\n",
       "      <td>-76.641835</td>\n",
       "      <td>High</td>\n",
       "    </tr>\n",
       "  </tbody>\n",
       "</table>\n",
       "</div>"
      ],
      "text/plain": [
       "                    callDateTime        Date      Day           timestamp  \\\n",
       "recordId                                                                    \n",
       "3917199   10/23/2018 09:35:00 AM  2018-10-23  Tuesday 2018-10-23 09:35:00   \n",
       "4060328   12/15/2018 09:16:00 AM  2018-12-15   Monday 2018-12-15 09:16:00   \n",
       "\n",
       "              Time Time_type  session  callNumber call_number district  \\\n",
       "recordId                                                                 \n",
       "3917199   09:35:00        AM  Morning  P182960717   182960717       SW   \n",
       "4060328   09:16:00        AM  Morning  P183490699   183490699       WD   \n",
       "\n",
       "            description      incidentLocation  \\\n",
       "recordId                                        \n",
       "3917199   911/NO  VOICE    3600 W FRANKLIN ST   \n",
       "4060328    SILENT ALARM  2400 PENNSYLVANIA AV   \n",
       "\n",
       "                                                   location  \\\n",
       "recordId                                                      \n",
       "3917199   3600 W FRANKLIN ST\\nBALTIMORE, MD\\n(39.292646,...   \n",
       "4060328   2400 PENNSYLVANIA AV\\nBALTIMORE, MD\\n(39.30947...   \n",
       "\n",
       "                  ext_location   latitude  longitude priority  \n",
       "recordId                                                       \n",
       "3917199   39.292646,-76.677151  39.292646 -76.677151   Medium  \n",
       "4060328   39.309471,-76.641835  39.309471 -76.641835     High  "
      ]
     },
     "execution_count": 24,
     "metadata": {},
     "output_type": "execute_result"
    }
   ],
   "source": [
    "dummy_df.head(2)"
   ]
  },
  {
   "cell_type": "code",
   "execution_count": 25,
   "metadata": {},
   "outputs": [
    {
     "data": {
      "text/html": [
       "<div>\n",
       "<style scoped>\n",
       "    .dataframe tbody tr th:only-of-type {\n",
       "        vertical-align: middle;\n",
       "    }\n",
       "\n",
       "    .dataframe tbody tr th {\n",
       "        vertical-align: top;\n",
       "    }\n",
       "\n",
       "    .dataframe thead th {\n",
       "        text-align: right;\n",
       "    }\n",
       "</style>\n",
       "<table border=\"1\" class=\"dataframe\">\n",
       "  <thead>\n",
       "    <tr style=\"text-align: right;\">\n",
       "      <th></th>\n",
       "      <th>Date</th>\n",
       "      <th>Day</th>\n",
       "      <th>Time</th>\n",
       "      <th>Time_type</th>\n",
       "      <th>session</th>\n",
       "      <th>district</th>\n",
       "      <th>description</th>\n",
       "      <th>call_number</th>\n",
       "      <th>incidentLocation</th>\n",
       "      <th>latitude</th>\n",
       "      <th>longitude</th>\n",
       "      <th>priority</th>\n",
       "    </tr>\n",
       "    <tr>\n",
       "      <th>recordId</th>\n",
       "      <th></th>\n",
       "      <th></th>\n",
       "      <th></th>\n",
       "      <th></th>\n",
       "      <th></th>\n",
       "      <th></th>\n",
       "      <th></th>\n",
       "      <th></th>\n",
       "      <th></th>\n",
       "      <th></th>\n",
       "      <th></th>\n",
       "      <th></th>\n",
       "    </tr>\n",
       "  </thead>\n",
       "  <tbody>\n",
       "    <tr>\n",
       "      <th>3917199</th>\n",
       "      <td>2018-10-23</td>\n",
       "      <td>Tuesday</td>\n",
       "      <td>09:35:00</td>\n",
       "      <td>AM</td>\n",
       "      <td>Morning</td>\n",
       "      <td>SW</td>\n",
       "      <td>911/NO  VOICE</td>\n",
       "      <td>182960717</td>\n",
       "      <td>3600 W FRANKLIN ST</td>\n",
       "      <td>39.292646</td>\n",
       "      <td>-76.677151</td>\n",
       "      <td>Medium</td>\n",
       "    </tr>\n",
       "    <tr>\n",
       "      <th>4060328</th>\n",
       "      <td>2018-12-15</td>\n",
       "      <td>Monday</td>\n",
       "      <td>09:16:00</td>\n",
       "      <td>AM</td>\n",
       "      <td>Morning</td>\n",
       "      <td>WD</td>\n",
       "      <td>SILENT ALARM</td>\n",
       "      <td>183490699</td>\n",
       "      <td>2400 PENNSYLVANIA AV</td>\n",
       "      <td>39.309471</td>\n",
       "      <td>-76.641835</td>\n",
       "      <td>High</td>\n",
       "    </tr>\n",
       "  </tbody>\n",
       "</table>\n",
       "</div>"
      ],
      "text/plain": [
       "                Date      Day      Time Time_type  session district  \\\n",
       "recordId                                                              \n",
       "3917199   2018-10-23  Tuesday  09:35:00        AM  Morning       SW   \n",
       "4060328   2018-12-15   Monday  09:16:00        AM  Morning       WD   \n",
       "\n",
       "            description call_number      incidentLocation   latitude  \\\n",
       "recordId                                                               \n",
       "3917199   911/NO  VOICE   182960717    3600 W FRANKLIN ST  39.292646   \n",
       "4060328    SILENT ALARM   183490699  2400 PENNSYLVANIA AV  39.309471   \n",
       "\n",
       "          longitude priority  \n",
       "recordId                      \n",
       "3917199  -76.677151   Medium  \n",
       "4060328  -76.641835     High  "
      ]
     },
     "execution_count": 25,
     "metadata": {},
     "output_type": "execute_result"
    }
   ],
   "source": [
    "# removing unnecessary columns and creating a new dataset for modelling \n",
    "new_df = dummy_df[['Date', 'Day', 'Time', 'Time_type', 'session', 'district', 'description', 'call_number', 'incidentLocation', 'latitude', 'longitude', 'priority']]\n",
    "new_df.head(2)"
   ]
  },
  {
   "cell_type": "code",
   "execution_count": 26,
   "metadata": {},
   "outputs": [
    {
     "name": "stdout",
     "output_type": "stream",
     "text": [
      "-----------------------------------------------Shape of Dataset-----------------------------------------------\n",
      "(77485, 1)\n",
      "--------------------------------------------Description of Dataset--------------------------------------------\n",
      "           priority\n",
      "count  77485.000000\n",
      "mean       3.370201\n",
      "std        0.987440\n",
      "min        1.000000\n",
      "25%        3.000000\n",
      "50%        3.000000\n",
      "75%        4.000000\n",
      "max        6.000000\n",
      "--------------------------------Unique values and their counts in the dataset---------------------------------\n",
      "3    34233\n",
      "4    14540\n",
      "2    14423\n",
      "5    14274\n",
      "6       10\n",
      "1        5\n",
      "Name: priority, dtype: int64\n"
     ]
    },
    {
     "name": "stderr",
     "output_type": "stream",
     "text": [
      "C:\\Anaconda\\lib\\site-packages\\pandas\\core\\generic.py:5890: SettingWithCopyWarning: \n",
      "A value is trying to be set on a copy of a slice from a DataFrame\n",
      "\n",
      "See the caveats in the documentation: http://pandas.pydata.org/pandas-docs/stable/indexing.html#indexing-view-versus-copy\n",
      "  self._update_inplace(new_data)\n"
     ]
    },
    {
     "data": {
      "text/html": [
       "<div>\n",
       "<style scoped>\n",
       "    .dataframe tbody tr th:only-of-type {\n",
       "        vertical-align: middle;\n",
       "    }\n",
       "\n",
       "    .dataframe tbody tr th {\n",
       "        vertical-align: top;\n",
       "    }\n",
       "\n",
       "    .dataframe thead th {\n",
       "        text-align: right;\n",
       "    }\n",
       "</style>\n",
       "<table border=\"1\" class=\"dataframe\">\n",
       "  <thead>\n",
       "    <tr style=\"text-align: right;\">\n",
       "      <th></th>\n",
       "      <th>priority</th>\n",
       "    </tr>\n",
       "    <tr>\n",
       "      <th>recordId</th>\n",
       "      <th></th>\n",
       "    </tr>\n",
       "  </thead>\n",
       "  <tbody>\n",
       "    <tr>\n",
       "      <th>3917199</th>\n",
       "      <td>3</td>\n",
       "    </tr>\n",
       "    <tr>\n",
       "      <th>4060328</th>\n",
       "      <td>2</td>\n",
       "    </tr>\n",
       "  </tbody>\n",
       "</table>\n",
       "</div>"
      ],
      "text/plain": [
       "          priority\n",
       "recordId          \n",
       "3917199          3\n",
       "4060328          2"
      ]
     },
     "execution_count": 26,
     "metadata": {},
     "output_type": "execute_result"
    }
   ],
   "source": [
    "# Creating sub datasets to convert categorical values into indicator values\n",
    "\n",
    "priority_df = new_df[[\"priority\"]]\n",
    "priority_df.priority.replace({\"Emergency\" : 1,\"High\" : 2, \"Medium\" : 3, \"Low\" : 4, \"Non-Emergency\" : 5, \"Out of Service\" : 6}, inplace = True)\n",
    "print(\"Shape of Dataset\".center(110,\"-\"))\n",
    "print(priority_df.shape)\n",
    "print(\"Description of Dataset\".center(110,\"-\"))\n",
    "print(priority_df.describe())\n",
    "print(\"Unique values and their counts in the dataset\".center(110,\"-\"))\n",
    "print(priority_df.priority.value_counts())\n",
    "priority_df.head(2)"
   ]
  },
  {
   "cell_type": "code",
   "execution_count": 27,
   "metadata": {},
   "outputs": [
    {
     "name": "stdout",
     "output_type": "stream",
     "text": [
      "-----------------------------------------------Shape of Dataset-----------------------------------------------\n",
      "(77485, 6)\n",
      "--------------------------------------------Description of Dataset--------------------------------------------\n",
      "           latitude     longitude\n",
      "count  77485.000000  77485.000000\n",
      "mean      39.299481    -76.719858\n",
      "std        0.270089      1.397534\n",
      "min       26.610151   -123.196318\n",
      "25%       39.287848    -76.655039\n",
      "50%       39.304136    -76.617083\n",
      "75%       39.327943    -76.588991\n",
      "max       45.915690    -71.572639\n"
     ]
    },
    {
     "data": {
      "text/html": [
       "<div>\n",
       "<style scoped>\n",
       "    .dataframe tbody tr th:only-of-type {\n",
       "        vertical-align: middle;\n",
       "    }\n",
       "\n",
       "    .dataframe tbody tr th {\n",
       "        vertical-align: top;\n",
       "    }\n",
       "\n",
       "    .dataframe thead th {\n",
       "        text-align: right;\n",
       "    }\n",
       "</style>\n",
       "<table border=\"1\" class=\"dataframe\">\n",
       "  <thead>\n",
       "    <tr style=\"text-align: right;\">\n",
       "      <th></th>\n",
       "      <th>Day</th>\n",
       "      <th>session</th>\n",
       "      <th>district</th>\n",
       "      <th>description</th>\n",
       "      <th>latitude</th>\n",
       "      <th>longitude</th>\n",
       "    </tr>\n",
       "    <tr>\n",
       "      <th>recordId</th>\n",
       "      <th></th>\n",
       "      <th></th>\n",
       "      <th></th>\n",
       "      <th></th>\n",
       "      <th></th>\n",
       "      <th></th>\n",
       "    </tr>\n",
       "  </thead>\n",
       "  <tbody>\n",
       "    <tr>\n",
       "      <th>3917199</th>\n",
       "      <td>Tuesday</td>\n",
       "      <td>Morning</td>\n",
       "      <td>SW</td>\n",
       "      <td>911/NO  VOICE</td>\n",
       "      <td>39.292646</td>\n",
       "      <td>-76.677151</td>\n",
       "    </tr>\n",
       "    <tr>\n",
       "      <th>4060328</th>\n",
       "      <td>Monday</td>\n",
       "      <td>Morning</td>\n",
       "      <td>WD</td>\n",
       "      <td>SILENT ALARM</td>\n",
       "      <td>39.309471</td>\n",
       "      <td>-76.641835</td>\n",
       "    </tr>\n",
       "    <tr>\n",
       "      <th>3600777</th>\n",
       "      <td>Monday</td>\n",
       "      <td>Morning</td>\n",
       "      <td>SE</td>\n",
       "      <td>AUTO ACCIDENT</td>\n",
       "      <td>39.287698</td>\n",
       "      <td>-76.540619</td>\n",
       "    </tr>\n",
       "    <tr>\n",
       "      <th>4073852</th>\n",
       "      <td>Saturday</td>\n",
       "      <td>Morning</td>\n",
       "      <td>SW</td>\n",
       "      <td>NARCOTICSOutside</td>\n",
       "      <td>39.300357</td>\n",
       "      <td>-76.665255</td>\n",
       "    </tr>\n",
       "  </tbody>\n",
       "</table>\n",
       "</div>"
      ],
      "text/plain": [
       "               Day  session district       description   latitude  longitude\n",
       "recordId                                                                    \n",
       "3917199    Tuesday  Morning       SW     911/NO  VOICE  39.292646 -76.677151\n",
       "4060328     Monday  Morning       WD      SILENT ALARM  39.309471 -76.641835\n",
       "3600777     Monday  Morning       SE     AUTO ACCIDENT  39.287698 -76.540619\n",
       "4073852   Saturday  Morning       SW  NARCOTICSOutside  39.300357 -76.665255"
      ]
     },
     "execution_count": 27,
     "metadata": {},
     "output_type": "execute_result"
    }
   ],
   "source": [
    "subset_df = new_df[[\"Day\",\"session\",\"district\",\"description\",\"latitude\",\"longitude\"]]\n",
    "print(\"Shape of Dataset\".center(110,\"-\"))\n",
    "print(subset_df.shape)\n",
    "print(\"Description of Dataset\".center(110,\"-\"))\n",
    "print(subset_df.describe())\n",
    "subset_df.head(4)"
   ]
  },
  {
   "cell_type": "code",
   "execution_count": 28,
   "metadata": {},
   "outputs": [
    {
     "data": {
      "text/html": [
       "<div>\n",
       "<style scoped>\n",
       "    .dataframe tbody tr th:only-of-type {\n",
       "        vertical-align: middle;\n",
       "    }\n",
       "\n",
       "    .dataframe tbody tr th {\n",
       "        vertical-align: top;\n",
       "    }\n",
       "\n",
       "    .dataframe thead th {\n",
       "        text-align: right;\n",
       "    }\n",
       "</style>\n",
       "<table border=\"1\" class=\"dataframe\">\n",
       "  <thead>\n",
       "    <tr style=\"text-align: right;\">\n",
       "      <th></th>\n",
       "      <th>Friday</th>\n",
       "      <th>Monday</th>\n",
       "      <th>Saturday</th>\n",
       "      <th>Sunday</th>\n",
       "      <th>Thursday</th>\n",
       "      <th>Tuesday</th>\n",
       "      <th>Wednesday</th>\n",
       "    </tr>\n",
       "    <tr>\n",
       "      <th>recordId</th>\n",
       "      <th></th>\n",
       "      <th></th>\n",
       "      <th></th>\n",
       "      <th></th>\n",
       "      <th></th>\n",
       "      <th></th>\n",
       "      <th></th>\n",
       "    </tr>\n",
       "  </thead>\n",
       "  <tbody>\n",
       "    <tr>\n",
       "      <th>3917199</th>\n",
       "      <td>0</td>\n",
       "      <td>0</td>\n",
       "      <td>0</td>\n",
       "      <td>0</td>\n",
       "      <td>0</td>\n",
       "      <td>1</td>\n",
       "      <td>0</td>\n",
       "    </tr>\n",
       "    <tr>\n",
       "      <th>4060328</th>\n",
       "      <td>0</td>\n",
       "      <td>1</td>\n",
       "      <td>0</td>\n",
       "      <td>0</td>\n",
       "      <td>0</td>\n",
       "      <td>0</td>\n",
       "      <td>0</td>\n",
       "    </tr>\n",
       "    <tr>\n",
       "      <th>3600777</th>\n",
       "      <td>0</td>\n",
       "      <td>1</td>\n",
       "      <td>0</td>\n",
       "      <td>0</td>\n",
       "      <td>0</td>\n",
       "      <td>0</td>\n",
       "      <td>0</td>\n",
       "    </tr>\n",
       "  </tbody>\n",
       "</table>\n",
       "</div>"
      ],
      "text/plain": [
       "          Friday  Monday  Saturday  Sunday  Thursday  Tuesday  Wednesday\n",
       "recordId                                                                \n",
       "3917199        0       0         0       0         0        1          0\n",
       "4060328        0       1         0       0         0        0          0\n",
       "3600777        0       1         0       0         0        0          0"
      ]
     },
     "execution_count": 28,
     "metadata": {},
     "output_type": "execute_result"
    }
   ],
   "source": [
    "day_dummies = pd.get_dummies(subset_df[\"Day\"])\n",
    "day_dummies.head(3)"
   ]
  },
  {
   "cell_type": "code",
   "execution_count": 29,
   "metadata": {},
   "outputs": [
    {
     "data": {
      "text/html": [
       "<div>\n",
       "<style scoped>\n",
       "    .dataframe tbody tr th:only-of-type {\n",
       "        vertical-align: middle;\n",
       "    }\n",
       "\n",
       "    .dataframe tbody tr th {\n",
       "        vertical-align: top;\n",
       "    }\n",
       "\n",
       "    .dataframe thead th {\n",
       "        text-align: right;\n",
       "    }\n",
       "</style>\n",
       "<table border=\"1\" class=\"dataframe\">\n",
       "  <thead>\n",
       "    <tr style=\"text-align: right;\">\n",
       "      <th></th>\n",
       "      <th>Night</th>\n",
       "      <th>Morning</th>\n",
       "      <th>Afternoon</th>\n",
       "      <th>Evening</th>\n",
       "    </tr>\n",
       "    <tr>\n",
       "      <th>recordId</th>\n",
       "      <th></th>\n",
       "      <th></th>\n",
       "      <th></th>\n",
       "      <th></th>\n",
       "    </tr>\n",
       "  </thead>\n",
       "  <tbody>\n",
       "    <tr>\n",
       "      <th>3917199</th>\n",
       "      <td>0</td>\n",
       "      <td>1</td>\n",
       "      <td>0</td>\n",
       "      <td>0</td>\n",
       "    </tr>\n",
       "    <tr>\n",
       "      <th>4060328</th>\n",
       "      <td>0</td>\n",
       "      <td>1</td>\n",
       "      <td>0</td>\n",
       "      <td>0</td>\n",
       "    </tr>\n",
       "    <tr>\n",
       "      <th>3600777</th>\n",
       "      <td>0</td>\n",
       "      <td>1</td>\n",
       "      <td>0</td>\n",
       "      <td>0</td>\n",
       "    </tr>\n",
       "  </tbody>\n",
       "</table>\n",
       "</div>"
      ],
      "text/plain": [
       "          Night  Morning  Afternoon  Evening\n",
       "recordId                                    \n",
       "3917199       0        1          0        0\n",
       "4060328       0        1          0        0\n",
       "3600777       0        1          0        0"
      ]
     },
     "execution_count": 29,
     "metadata": {},
     "output_type": "execute_result"
    }
   ],
   "source": [
    "session_dummies = pd.get_dummies(subset_df[\"session\"])\n",
    "session_dummies.head(3)"
   ]
  },
  {
   "cell_type": "code",
   "execution_count": 30,
   "metadata": {},
   "outputs": [
    {
     "data": {
      "text/html": [
       "<div>\n",
       "<style scoped>\n",
       "    .dataframe tbody tr th:only-of-type {\n",
       "        vertical-align: middle;\n",
       "    }\n",
       "\n",
       "    .dataframe tbody tr th {\n",
       "        vertical-align: top;\n",
       "    }\n",
       "\n",
       "    .dataframe thead th {\n",
       "        text-align: right;\n",
       "    }\n",
       "</style>\n",
       "<table border=\"1\" class=\"dataframe\">\n",
       "  <thead>\n",
       "    <tr style=\"text-align: right;\">\n",
       "      <th></th>\n",
       "      <th>CD</th>\n",
       "      <th>CW</th>\n",
       "      <th>ED</th>\n",
       "      <th>EVT1</th>\n",
       "      <th>INFO</th>\n",
       "      <th>ND</th>\n",
       "      <th>NE</th>\n",
       "      <th>NW</th>\n",
       "      <th>SD</th>\n",
       "      <th>SE</th>\n",
       "      <th>SS</th>\n",
       "      <th>SW</th>\n",
       "      <th>TRU</th>\n",
       "      <th>WD</th>\n",
       "    </tr>\n",
       "    <tr>\n",
       "      <th>recordId</th>\n",
       "      <th></th>\n",
       "      <th></th>\n",
       "      <th></th>\n",
       "      <th></th>\n",
       "      <th></th>\n",
       "      <th></th>\n",
       "      <th></th>\n",
       "      <th></th>\n",
       "      <th></th>\n",
       "      <th></th>\n",
       "      <th></th>\n",
       "      <th></th>\n",
       "      <th></th>\n",
       "      <th></th>\n",
       "    </tr>\n",
       "  </thead>\n",
       "  <tbody>\n",
       "    <tr>\n",
       "      <th>3917199</th>\n",
       "      <td>0</td>\n",
       "      <td>0</td>\n",
       "      <td>0</td>\n",
       "      <td>0</td>\n",
       "      <td>0</td>\n",
       "      <td>0</td>\n",
       "      <td>0</td>\n",
       "      <td>0</td>\n",
       "      <td>0</td>\n",
       "      <td>0</td>\n",
       "      <td>0</td>\n",
       "      <td>1</td>\n",
       "      <td>0</td>\n",
       "      <td>0</td>\n",
       "    </tr>\n",
       "    <tr>\n",
       "      <th>4060328</th>\n",
       "      <td>0</td>\n",
       "      <td>0</td>\n",
       "      <td>0</td>\n",
       "      <td>0</td>\n",
       "      <td>0</td>\n",
       "      <td>0</td>\n",
       "      <td>0</td>\n",
       "      <td>0</td>\n",
       "      <td>0</td>\n",
       "      <td>0</td>\n",
       "      <td>0</td>\n",
       "      <td>0</td>\n",
       "      <td>0</td>\n",
       "      <td>1</td>\n",
       "    </tr>\n",
       "    <tr>\n",
       "      <th>3600777</th>\n",
       "      <td>0</td>\n",
       "      <td>0</td>\n",
       "      <td>0</td>\n",
       "      <td>0</td>\n",
       "      <td>0</td>\n",
       "      <td>0</td>\n",
       "      <td>0</td>\n",
       "      <td>0</td>\n",
       "      <td>0</td>\n",
       "      <td>1</td>\n",
       "      <td>0</td>\n",
       "      <td>0</td>\n",
       "      <td>0</td>\n",
       "      <td>0</td>\n",
       "    </tr>\n",
       "  </tbody>\n",
       "</table>\n",
       "</div>"
      ],
      "text/plain": [
       "          CD  CW  ED  EVT1  INFO  ND  NE  NW  SD  SE  SS  SW  TRU  WD\n",
       "recordId                                                             \n",
       "3917199    0   0   0     0     0   0   0   0   0   0   0   1    0   0\n",
       "4060328    0   0   0     0     0   0   0   0   0   0   0   0    0   1\n",
       "3600777    0   0   0     0     0   0   0   0   0   1   0   0    0   0"
      ]
     },
     "execution_count": 30,
     "metadata": {},
     "output_type": "execute_result"
    }
   ],
   "source": [
    "district_dummies = pd.get_dummies(subset_df[\"district\"])\n",
    "district_dummies.head(3)"
   ]
  },
  {
   "cell_type": "code",
   "execution_count": 31,
   "metadata": {},
   "outputs": [
    {
     "name": "stdout",
     "output_type": "stream",
     "text": [
      "['10-11 BALTO CO' '23' '2658 FREDERICK' '28' '30' '31 FOLLOW UP' '3N' '3P'\n",
      " '49' '4A' '4B' '4D' '4E' '55' '56' '5G' '65' '67' '68' '6D' '6J' '73'\n",
      " '75' '79' '79 -AWOL' '79 EP' '79 UNAUTH USE' '7C' '85' '89' '911 HANGUP'\n",
      " '911 MISUSE' '911/HANGUP' '911/N' '911/NO  VOICE']\n",
      "(77485, 663)\n"
     ]
    },
    {
     "data": {
      "text/html": [
       "<div>\n",
       "<style scoped>\n",
       "    .dataframe tbody tr th:only-of-type {\n",
       "        vertical-align: middle;\n",
       "    }\n",
       "\n",
       "    .dataframe tbody tr th {\n",
       "        vertical-align: top;\n",
       "    }\n",
       "\n",
       "    .dataframe thead th {\n",
       "        text-align: right;\n",
       "    }\n",
       "</style>\n",
       "<table border=\"1\" class=\"dataframe\">\n",
       "  <thead>\n",
       "    <tr style=\"text-align: right;\">\n",
       "      <th></th>\n",
       "      <th>10-11 BALTO CO</th>\n",
       "      <th>23</th>\n",
       "      <th>2658 FREDERICK</th>\n",
       "      <th>28</th>\n",
       "      <th>30</th>\n",
       "      <th>31 FOLLOW UP</th>\n",
       "      <th>3N</th>\n",
       "      <th>3P</th>\n",
       "      <th>49</th>\n",
       "      <th>4A</th>\n",
       "      <th>...</th>\n",
       "      <th>WELLNESS  CHECK</th>\n",
       "      <th>WELLNESS CHECK</th>\n",
       "      <th>WELLNESSA CJHECK</th>\n",
       "      <th>WOMAN ON EXPWY</th>\n",
       "      <th>WRECKLESS DRIVER</th>\n",
       "      <th>WRECKLESS DRVR</th>\n",
       "      <th>WRONG NUMBER</th>\n",
       "      <th>WRONG PRO QA</th>\n",
       "      <th>Warrant Service</th>\n",
       "      <th>Water Ban</th>\n",
       "    </tr>\n",
       "    <tr>\n",
       "      <th>recordId</th>\n",
       "      <th></th>\n",
       "      <th></th>\n",
       "      <th></th>\n",
       "      <th></th>\n",
       "      <th></th>\n",
       "      <th></th>\n",
       "      <th></th>\n",
       "      <th></th>\n",
       "      <th></th>\n",
       "      <th></th>\n",
       "      <th></th>\n",
       "      <th></th>\n",
       "      <th></th>\n",
       "      <th></th>\n",
       "      <th></th>\n",
       "      <th></th>\n",
       "      <th></th>\n",
       "      <th></th>\n",
       "      <th></th>\n",
       "      <th></th>\n",
       "      <th></th>\n",
       "    </tr>\n",
       "  </thead>\n",
       "  <tbody>\n",
       "    <tr>\n",
       "      <th>3917199</th>\n",
       "      <td>0</td>\n",
       "      <td>0</td>\n",
       "      <td>0</td>\n",
       "      <td>0</td>\n",
       "      <td>0</td>\n",
       "      <td>0</td>\n",
       "      <td>0</td>\n",
       "      <td>0</td>\n",
       "      <td>0</td>\n",
       "      <td>0</td>\n",
       "      <td>...</td>\n",
       "      <td>0</td>\n",
       "      <td>0</td>\n",
       "      <td>0</td>\n",
       "      <td>0</td>\n",
       "      <td>0</td>\n",
       "      <td>0</td>\n",
       "      <td>0</td>\n",
       "      <td>0</td>\n",
       "      <td>0</td>\n",
       "      <td>0</td>\n",
       "    </tr>\n",
       "    <tr>\n",
       "      <th>4060328</th>\n",
       "      <td>0</td>\n",
       "      <td>0</td>\n",
       "      <td>0</td>\n",
       "      <td>0</td>\n",
       "      <td>0</td>\n",
       "      <td>0</td>\n",
       "      <td>0</td>\n",
       "      <td>0</td>\n",
       "      <td>0</td>\n",
       "      <td>0</td>\n",
       "      <td>...</td>\n",
       "      <td>0</td>\n",
       "      <td>0</td>\n",
       "      <td>0</td>\n",
       "      <td>0</td>\n",
       "      <td>0</td>\n",
       "      <td>0</td>\n",
       "      <td>0</td>\n",
       "      <td>0</td>\n",
       "      <td>0</td>\n",
       "      <td>0</td>\n",
       "    </tr>\n",
       "    <tr>\n",
       "      <th>3600777</th>\n",
       "      <td>0</td>\n",
       "      <td>0</td>\n",
       "      <td>0</td>\n",
       "      <td>0</td>\n",
       "      <td>0</td>\n",
       "      <td>0</td>\n",
       "      <td>0</td>\n",
       "      <td>0</td>\n",
       "      <td>0</td>\n",
       "      <td>0</td>\n",
       "      <td>...</td>\n",
       "      <td>0</td>\n",
       "      <td>0</td>\n",
       "      <td>0</td>\n",
       "      <td>0</td>\n",
       "      <td>0</td>\n",
       "      <td>0</td>\n",
       "      <td>0</td>\n",
       "      <td>0</td>\n",
       "      <td>0</td>\n",
       "      <td>0</td>\n",
       "    </tr>\n",
       "  </tbody>\n",
       "</table>\n",
       "<p>3 rows × 663 columns</p>\n",
       "</div>"
      ],
      "text/plain": [
       "          10-11 BALTO CO  23  2658 FREDERICK  28  30  31 FOLLOW UP  3N  3P  \\\n",
       "recordId                                                                     \n",
       "3917199                0   0               0   0   0             0   0   0   \n",
       "4060328                0   0               0   0   0             0   0   0   \n",
       "3600777                0   0               0   0   0             0   0   0   \n",
       "\n",
       "          49  4A    ...      WELLNESS  CHECK  WELLNESS CHECK  \\\n",
       "recordId            ...                                        \n",
       "3917199    0   0    ...                    0               0   \n",
       "4060328    0   0    ...                    0               0   \n",
       "3600777    0   0    ...                    0               0   \n",
       "\n",
       "          WELLNESSA CJHECK  WOMAN ON EXPWY  WRECKLESS DRIVER  WRECKLESS DRVR  \\\n",
       "recordId                                                                       \n",
       "3917199                  0               0                 0               0   \n",
       "4060328                  0               0                 0               0   \n",
       "3600777                  0               0                 0               0   \n",
       "\n",
       "          WRONG NUMBER  WRONG PRO QA  Warrant Service  Water Ban  \n",
       "recordId                                                          \n",
       "3917199              0             0                0          0  \n",
       "4060328              0             0                0          0  \n",
       "3600777              0             0                0          0  \n",
       "\n",
       "[3 rows x 663 columns]"
      ]
     },
     "execution_count": 31,
     "metadata": {},
     "output_type": "execute_result"
    }
   ],
   "source": [
    "descript_dummies = pd.get_dummies(subset_df[\"description\"])\n",
    "print(descript_dummies.columns.values[:35])\n",
    "print(descript_dummies.shape)\n",
    "descript_dummies.head(3)"
   ]
  },
  {
   "cell_type": "code",
   "execution_count": 32,
   "metadata": {},
   "outputs": [
    {
     "name": "stdout",
     "output_type": "stream",
     "text": [
      "(77485, 628)\n"
     ]
    },
    {
     "data": {
      "text/html": [
       "<div>\n",
       "<style scoped>\n",
       "    .dataframe tbody tr th:only-of-type {\n",
       "        vertical-align: middle;\n",
       "    }\n",
       "\n",
       "    .dataframe tbody tr th {\n",
       "        vertical-align: top;\n",
       "    }\n",
       "\n",
       "    .dataframe thead th {\n",
       "        text-align: right;\n",
       "    }\n",
       "</style>\n",
       "<table border=\"1\" class=\"dataframe\">\n",
       "  <thead>\n",
       "    <tr style=\"text-align: right;\">\n",
       "      <th></th>\n",
       "      <th>911/NO VOICE</th>\n",
       "      <th>911HANGUP</th>\n",
       "      <th>99</th>\n",
       "      <th>A WOL</th>\n",
       "      <th>A.W.O.L.</th>\n",
       "      <th>ABANDONED VEH</th>\n",
       "      <th>ABDUCT/PARENT</th>\n",
       "      <th>ABDUCTION OTHER</th>\n",
       "      <th>ADMIN</th>\n",
       "      <th>AFTER TRUST</th>\n",
       "      <th>...</th>\n",
       "      <th>WELLNESS  CHECK</th>\n",
       "      <th>WELLNESS CHECK</th>\n",
       "      <th>WELLNESSA CJHECK</th>\n",
       "      <th>WOMAN ON EXPWY</th>\n",
       "      <th>WRECKLESS DRIVER</th>\n",
       "      <th>WRECKLESS DRVR</th>\n",
       "      <th>WRONG NUMBER</th>\n",
       "      <th>WRONG PRO QA</th>\n",
       "      <th>Warrant Service</th>\n",
       "      <th>Water Ban</th>\n",
       "    </tr>\n",
       "    <tr>\n",
       "      <th>recordId</th>\n",
       "      <th></th>\n",
       "      <th></th>\n",
       "      <th></th>\n",
       "      <th></th>\n",
       "      <th></th>\n",
       "      <th></th>\n",
       "      <th></th>\n",
       "      <th></th>\n",
       "      <th></th>\n",
       "      <th></th>\n",
       "      <th></th>\n",
       "      <th></th>\n",
       "      <th></th>\n",
       "      <th></th>\n",
       "      <th></th>\n",
       "      <th></th>\n",
       "      <th></th>\n",
       "      <th></th>\n",
       "      <th></th>\n",
       "      <th></th>\n",
       "      <th></th>\n",
       "    </tr>\n",
       "  </thead>\n",
       "  <tbody>\n",
       "    <tr>\n",
       "      <th>3917199</th>\n",
       "      <td>0</td>\n",
       "      <td>0</td>\n",
       "      <td>0</td>\n",
       "      <td>0</td>\n",
       "      <td>0</td>\n",
       "      <td>0</td>\n",
       "      <td>0</td>\n",
       "      <td>0</td>\n",
       "      <td>0</td>\n",
       "      <td>0</td>\n",
       "      <td>...</td>\n",
       "      <td>0</td>\n",
       "      <td>0</td>\n",
       "      <td>0</td>\n",
       "      <td>0</td>\n",
       "      <td>0</td>\n",
       "      <td>0</td>\n",
       "      <td>0</td>\n",
       "      <td>0</td>\n",
       "      <td>0</td>\n",
       "      <td>0</td>\n",
       "    </tr>\n",
       "    <tr>\n",
       "      <th>4060328</th>\n",
       "      <td>0</td>\n",
       "      <td>0</td>\n",
       "      <td>0</td>\n",
       "      <td>0</td>\n",
       "      <td>0</td>\n",
       "      <td>0</td>\n",
       "      <td>0</td>\n",
       "      <td>0</td>\n",
       "      <td>0</td>\n",
       "      <td>0</td>\n",
       "      <td>...</td>\n",
       "      <td>0</td>\n",
       "      <td>0</td>\n",
       "      <td>0</td>\n",
       "      <td>0</td>\n",
       "      <td>0</td>\n",
       "      <td>0</td>\n",
       "      <td>0</td>\n",
       "      <td>0</td>\n",
       "      <td>0</td>\n",
       "      <td>0</td>\n",
       "    </tr>\n",
       "  </tbody>\n",
       "</table>\n",
       "<p>2 rows × 628 columns</p>\n",
       "</div>"
      ],
      "text/plain": [
       "          911/NO VOICE  911HANGUP  99  A WOL  A.W.O.L.  ABANDONED VEH  \\\n",
       "recordId                                                                \n",
       "3917199              0          0   0      0         0              0   \n",
       "4060328              0          0   0      0         0              0   \n",
       "\n",
       "          ABDUCT/PARENT  ABDUCTION OTHER  ADMIN  AFTER TRUST    ...      \\\n",
       "recordId                                                        ...       \n",
       "3917199               0                0      0            0    ...       \n",
       "4060328               0                0      0            0    ...       \n",
       "\n",
       "          WELLNESS  CHECK  WELLNESS CHECK  WELLNESSA CJHECK  WOMAN ON EXPWY  \\\n",
       "recordId                                                                      \n",
       "3917199                 0               0                 0               0   \n",
       "4060328                 0               0                 0               0   \n",
       "\n",
       "          WRECKLESS DRIVER  WRECKLESS DRVR  WRONG NUMBER  WRONG PRO QA  \\\n",
       "recordId                                                                 \n",
       "3917199                  0               0             0             0   \n",
       "4060328                  0               0             0             0   \n",
       "\n",
       "          Warrant Service  Water Ban  \n",
       "recordId                              \n",
       "3917199                 0          0  \n",
       "4060328                 0          0  \n",
       "\n",
       "[2 rows x 628 columns]"
      ]
     },
     "execution_count": 32,
     "metadata": {},
     "output_type": "execute_result"
    }
   ],
   "source": [
    "descript_dummy = descript_dummies.iloc[:,35:]\n",
    "print(descript_dummy.shape)\n",
    "descript_dummy.head(2)"
   ]
  },
  {
   "cell_type": "code",
   "execution_count": 33,
   "metadata": {},
   "outputs": [
    {
     "name": "stdout",
     "output_type": "stream",
     "text": [
      "(77485, 695)\n"
     ]
    }
   ],
   "source": [
    "final_dataset = pd.concat([subset_df, day_dummies, session_dummies, district_dummies, descript_dummies, priority_df], sort = False, axis = 1)\n",
    "print(final_dataset.shape)"
   ]
  },
  {
   "cell_type": "code",
   "execution_count": 34,
   "metadata": {},
   "outputs": [
    {
     "data": {
      "text/html": [
       "<div>\n",
       "<style scoped>\n",
       "    .dataframe tbody tr th:only-of-type {\n",
       "        vertical-align: middle;\n",
       "    }\n",
       "\n",
       "    .dataframe tbody tr th {\n",
       "        vertical-align: top;\n",
       "    }\n",
       "\n",
       "    .dataframe thead th {\n",
       "        text-align: right;\n",
       "    }\n",
       "</style>\n",
       "<table border=\"1\" class=\"dataframe\">\n",
       "  <thead>\n",
       "    <tr style=\"text-align: right;\">\n",
       "      <th></th>\n",
       "      <th>Day</th>\n",
       "      <th>session</th>\n",
       "      <th>district</th>\n",
       "      <th>description</th>\n",
       "      <th>latitude</th>\n",
       "      <th>longitude</th>\n",
       "      <th>Friday</th>\n",
       "      <th>Monday</th>\n",
       "      <th>Saturday</th>\n",
       "      <th>Sunday</th>\n",
       "      <th>...</th>\n",
       "      <th>WELLNESS CHECK</th>\n",
       "      <th>WELLNESSA CJHECK</th>\n",
       "      <th>WOMAN ON EXPWY</th>\n",
       "      <th>WRECKLESS DRIVER</th>\n",
       "      <th>WRECKLESS DRVR</th>\n",
       "      <th>WRONG NUMBER</th>\n",
       "      <th>WRONG PRO QA</th>\n",
       "      <th>Warrant Service</th>\n",
       "      <th>Water Ban</th>\n",
       "      <th>priority</th>\n",
       "    </tr>\n",
       "    <tr>\n",
       "      <th>recordId</th>\n",
       "      <th></th>\n",
       "      <th></th>\n",
       "      <th></th>\n",
       "      <th></th>\n",
       "      <th></th>\n",
       "      <th></th>\n",
       "      <th></th>\n",
       "      <th></th>\n",
       "      <th></th>\n",
       "      <th></th>\n",
       "      <th></th>\n",
       "      <th></th>\n",
       "      <th></th>\n",
       "      <th></th>\n",
       "      <th></th>\n",
       "      <th></th>\n",
       "      <th></th>\n",
       "      <th></th>\n",
       "      <th></th>\n",
       "      <th></th>\n",
       "      <th></th>\n",
       "    </tr>\n",
       "  </thead>\n",
       "  <tbody>\n",
       "    <tr>\n",
       "      <th>3917199</th>\n",
       "      <td>Tuesday</td>\n",
       "      <td>Morning</td>\n",
       "      <td>SW</td>\n",
       "      <td>911/NO  VOICE</td>\n",
       "      <td>39.292646</td>\n",
       "      <td>-76.677151</td>\n",
       "      <td>0</td>\n",
       "      <td>0</td>\n",
       "      <td>0</td>\n",
       "      <td>0</td>\n",
       "      <td>...</td>\n",
       "      <td>0</td>\n",
       "      <td>0</td>\n",
       "      <td>0</td>\n",
       "      <td>0</td>\n",
       "      <td>0</td>\n",
       "      <td>0</td>\n",
       "      <td>0</td>\n",
       "      <td>0</td>\n",
       "      <td>0</td>\n",
       "      <td>3</td>\n",
       "    </tr>\n",
       "    <tr>\n",
       "      <th>4060328</th>\n",
       "      <td>Monday</td>\n",
       "      <td>Morning</td>\n",
       "      <td>WD</td>\n",
       "      <td>SILENT ALARM</td>\n",
       "      <td>39.309471</td>\n",
       "      <td>-76.641835</td>\n",
       "      <td>0</td>\n",
       "      <td>1</td>\n",
       "      <td>0</td>\n",
       "      <td>0</td>\n",
       "      <td>...</td>\n",
       "      <td>0</td>\n",
       "      <td>0</td>\n",
       "      <td>0</td>\n",
       "      <td>0</td>\n",
       "      <td>0</td>\n",
       "      <td>0</td>\n",
       "      <td>0</td>\n",
       "      <td>0</td>\n",
       "      <td>0</td>\n",
       "      <td>2</td>\n",
       "    </tr>\n",
       "    <tr>\n",
       "      <th>3600777</th>\n",
       "      <td>Monday</td>\n",
       "      <td>Morning</td>\n",
       "      <td>SE</td>\n",
       "      <td>AUTO ACCIDENT</td>\n",
       "      <td>39.287698</td>\n",
       "      <td>-76.540619</td>\n",
       "      <td>0</td>\n",
       "      <td>1</td>\n",
       "      <td>0</td>\n",
       "      <td>0</td>\n",
       "      <td>...</td>\n",
       "      <td>0</td>\n",
       "      <td>0</td>\n",
       "      <td>0</td>\n",
       "      <td>0</td>\n",
       "      <td>0</td>\n",
       "      <td>0</td>\n",
       "      <td>0</td>\n",
       "      <td>0</td>\n",
       "      <td>0</td>\n",
       "      <td>4</td>\n",
       "    </tr>\n",
       "    <tr>\n",
       "      <th>4073852</th>\n",
       "      <td>Saturday</td>\n",
       "      <td>Morning</td>\n",
       "      <td>SW</td>\n",
       "      <td>NARCOTICSOutside</td>\n",
       "      <td>39.300357</td>\n",
       "      <td>-76.665255</td>\n",
       "      <td>0</td>\n",
       "      <td>0</td>\n",
       "      <td>1</td>\n",
       "      <td>0</td>\n",
       "      <td>...</td>\n",
       "      <td>0</td>\n",
       "      <td>0</td>\n",
       "      <td>0</td>\n",
       "      <td>0</td>\n",
       "      <td>0</td>\n",
       "      <td>0</td>\n",
       "      <td>0</td>\n",
       "      <td>0</td>\n",
       "      <td>0</td>\n",
       "      <td>3</td>\n",
       "    </tr>\n",
       "  </tbody>\n",
       "</table>\n",
       "<p>4 rows × 695 columns</p>\n",
       "</div>"
      ],
      "text/plain": [
       "               Day  session district       description   latitude  longitude  \\\n",
       "recordId                                                                       \n",
       "3917199    Tuesday  Morning       SW     911/NO  VOICE  39.292646 -76.677151   \n",
       "4060328     Monday  Morning       WD      SILENT ALARM  39.309471 -76.641835   \n",
       "3600777     Monday  Morning       SE     AUTO ACCIDENT  39.287698 -76.540619   \n",
       "4073852   Saturday  Morning       SW  NARCOTICSOutside  39.300357 -76.665255   \n",
       "\n",
       "          Friday  Monday  Saturday  Sunday    ...     WELLNESS CHECK  \\\n",
       "recordId                                      ...                      \n",
       "3917199        0       0         0       0    ...                  0   \n",
       "4060328        0       1         0       0    ...                  0   \n",
       "3600777        0       1         0       0    ...                  0   \n",
       "4073852        0       0         1       0    ...                  0   \n",
       "\n",
       "          WELLNESSA CJHECK  WOMAN ON EXPWY  WRECKLESS DRIVER  WRECKLESS DRVR  \\\n",
       "recordId                                                                       \n",
       "3917199                  0               0                 0               0   \n",
       "4060328                  0               0                 0               0   \n",
       "3600777                  0               0                 0               0   \n",
       "4073852                  0               0                 0               0   \n",
       "\n",
       "          WRONG NUMBER  WRONG PRO QA  Warrant Service  Water Ban  priority  \n",
       "recordId                                                                    \n",
       "3917199              0             0                0          0         3  \n",
       "4060328              0             0                0          0         2  \n",
       "3600777              0             0                0          0         4  \n",
       "4073852              0             0                0          0         3  \n",
       "\n",
       "[4 rows x 695 columns]"
      ]
     },
     "execution_count": 34,
     "metadata": {},
     "output_type": "execute_result"
    }
   ],
   "source": [
    "final_dataset.head(4)"
   ]
  },
  {
   "cell_type": "markdown",
   "metadata": {},
   "source": [
    "### Validation and Modelling"
   ]
  },
  {
   "cell_type": "code",
   "execution_count": 35,
   "metadata": {},
   "outputs": [
    {
     "data": {
      "text/html": [
       "<div>\n",
       "<style scoped>\n",
       "    .dataframe tbody tr th:only-of-type {\n",
       "        vertical-align: middle;\n",
       "    }\n",
       "\n",
       "    .dataframe tbody tr th {\n",
       "        vertical-align: top;\n",
       "    }\n",
       "\n",
       "    .dataframe thead th {\n",
       "        text-align: right;\n",
       "    }\n",
       "</style>\n",
       "<table border=\"1\" class=\"dataframe\">\n",
       "  <thead>\n",
       "    <tr style=\"text-align: right;\">\n",
       "      <th></th>\n",
       "      <th>latitude</th>\n",
       "      <th>longitude</th>\n",
       "      <th>Friday</th>\n",
       "      <th>Monday</th>\n",
       "      <th>Saturday</th>\n",
       "      <th>Sunday</th>\n",
       "      <th>Thursday</th>\n",
       "      <th>Tuesday</th>\n",
       "      <th>Wednesday</th>\n",
       "      <th>Night</th>\n",
       "      <th>...</th>\n",
       "      <th>WELLNESS  CHECK</th>\n",
       "      <th>WELLNESS CHECK</th>\n",
       "      <th>WELLNESSA CJHECK</th>\n",
       "      <th>WOMAN ON EXPWY</th>\n",
       "      <th>WRECKLESS DRIVER</th>\n",
       "      <th>WRECKLESS DRVR</th>\n",
       "      <th>WRONG NUMBER</th>\n",
       "      <th>WRONG PRO QA</th>\n",
       "      <th>Warrant Service</th>\n",
       "      <th>Water Ban</th>\n",
       "    </tr>\n",
       "    <tr>\n",
       "      <th>recordId</th>\n",
       "      <th></th>\n",
       "      <th></th>\n",
       "      <th></th>\n",
       "      <th></th>\n",
       "      <th></th>\n",
       "      <th></th>\n",
       "      <th></th>\n",
       "      <th></th>\n",
       "      <th></th>\n",
       "      <th></th>\n",
       "      <th></th>\n",
       "      <th></th>\n",
       "      <th></th>\n",
       "      <th></th>\n",
       "      <th></th>\n",
       "      <th></th>\n",
       "      <th></th>\n",
       "      <th></th>\n",
       "      <th></th>\n",
       "      <th></th>\n",
       "      <th></th>\n",
       "    </tr>\n",
       "  </thead>\n",
       "  <tbody>\n",
       "    <tr>\n",
       "      <th>3917199</th>\n",
       "      <td>39.292646</td>\n",
       "      <td>-76.677151</td>\n",
       "      <td>0</td>\n",
       "      <td>0</td>\n",
       "      <td>0</td>\n",
       "      <td>0</td>\n",
       "      <td>0</td>\n",
       "      <td>1</td>\n",
       "      <td>0</td>\n",
       "      <td>0</td>\n",
       "      <td>...</td>\n",
       "      <td>0</td>\n",
       "      <td>0</td>\n",
       "      <td>0</td>\n",
       "      <td>0</td>\n",
       "      <td>0</td>\n",
       "      <td>0</td>\n",
       "      <td>0</td>\n",
       "      <td>0</td>\n",
       "      <td>0</td>\n",
       "      <td>0</td>\n",
       "    </tr>\n",
       "    <tr>\n",
       "      <th>4060328</th>\n",
       "      <td>39.309471</td>\n",
       "      <td>-76.641835</td>\n",
       "      <td>0</td>\n",
       "      <td>1</td>\n",
       "      <td>0</td>\n",
       "      <td>0</td>\n",
       "      <td>0</td>\n",
       "      <td>0</td>\n",
       "      <td>0</td>\n",
       "      <td>0</td>\n",
       "      <td>...</td>\n",
       "      <td>0</td>\n",
       "      <td>0</td>\n",
       "      <td>0</td>\n",
       "      <td>0</td>\n",
       "      <td>0</td>\n",
       "      <td>0</td>\n",
       "      <td>0</td>\n",
       "      <td>0</td>\n",
       "      <td>0</td>\n",
       "      <td>0</td>\n",
       "    </tr>\n",
       "    <tr>\n",
       "      <th>3600777</th>\n",
       "      <td>39.287698</td>\n",
       "      <td>-76.540619</td>\n",
       "      <td>0</td>\n",
       "      <td>1</td>\n",
       "      <td>0</td>\n",
       "      <td>0</td>\n",
       "      <td>0</td>\n",
       "      <td>0</td>\n",
       "      <td>0</td>\n",
       "      <td>0</td>\n",
       "      <td>...</td>\n",
       "      <td>0</td>\n",
       "      <td>0</td>\n",
       "      <td>0</td>\n",
       "      <td>0</td>\n",
       "      <td>0</td>\n",
       "      <td>0</td>\n",
       "      <td>0</td>\n",
       "      <td>0</td>\n",
       "      <td>0</td>\n",
       "      <td>0</td>\n",
       "    </tr>\n",
       "  </tbody>\n",
       "</table>\n",
       "<p>3 rows × 690 columns</p>\n",
       "</div>"
      ],
      "text/plain": [
       "           latitude  longitude  Friday  Monday  Saturday  Sunday  Thursday  \\\n",
       "recordId                                                                     \n",
       "3917199   39.292646 -76.677151       0       0         0       0         0   \n",
       "4060328   39.309471 -76.641835       0       1         0       0         0   \n",
       "3600777   39.287698 -76.540619       0       1         0       0         0   \n",
       "\n",
       "          Tuesday  Wednesday  Night    ...      WELLNESS  CHECK  \\\n",
       "recordId                               ...                        \n",
       "3917199         1          0      0    ...                    0   \n",
       "4060328         0          0      0    ...                    0   \n",
       "3600777         0          0      0    ...                    0   \n",
       "\n",
       "          WELLNESS CHECK  WELLNESSA CJHECK  WOMAN ON EXPWY  WRECKLESS DRIVER  \\\n",
       "recordId                                                                       \n",
       "3917199                0                 0               0                 0   \n",
       "4060328                0                 0               0                 0   \n",
       "3600777                0                 0               0                 0   \n",
       "\n",
       "          WRECKLESS DRVR  WRONG NUMBER  WRONG PRO QA  Warrant Service  \\\n",
       "recordId                                                                \n",
       "3917199                0             0             0                0   \n",
       "4060328                0             0             0                0   \n",
       "3600777                0             0             0                0   \n",
       "\n",
       "          Water Ban  \n",
       "recordId             \n",
       "3917199           0  \n",
       "4060328           0  \n",
       "3600777           0  \n",
       "\n",
       "[3 rows x 690 columns]"
      ]
     },
     "execution_count": 35,
     "metadata": {},
     "output_type": "execute_result"
    }
   ],
   "source": [
    "# Dividing dataset into labels and features\n",
    "features = final_dataset.drop([\"Day\",\"session\",\"district\",\"description\",\"priority\"], axis = \"columns\")\n",
    "labels = final_dataset.priority\n",
    "features.head(3)"
   ]
  },
  {
   "cell_type": "code",
   "execution_count": 36,
   "metadata": {},
   "outputs": [],
   "source": [
    "#plt.figure(figsize=(20,20))\n",
    "#p = sb.heatmap(features.corr(), annot=True, cmap ='RdYlGn')"
   ]
  },
  {
   "cell_type": "code",
   "execution_count": 37,
   "metadata": {},
   "outputs": [
    {
     "name": "stdout",
     "output_type": "stream",
     "text": [
      "Shape of Features :  (77485, 690)\n",
      "Shape of Labels :  (77485,)\n"
     ]
    }
   ],
   "source": [
    "print(\"Shape of Features : \", features.shape)\n",
    "print(\"Shape of Labels : \", labels.shape)"
   ]
  },
  {
   "cell_type": "code",
   "execution_count": 38,
   "metadata": {},
   "outputs": [
    {
     "name": "stdout",
     "output_type": "stream",
     "text": [
      "Train data :  (54239, 690) (54239,)\n",
      "Test data :  (23246, 690) (23246,)\n"
     ]
    }
   ],
   "source": [
    "features_train, features_test, labels_train, labels_test = train_test_split(features, labels,random_state = 2,test_size=0.3)\n",
    "print(\"Train data : \",features_train.shape, labels_train.shape)\n",
    "print(\"Test data : \", features_test.shape, labels_test.shape)"
   ]
  },
  {
   "cell_type": "code",
   "execution_count": 39,
   "metadata": {},
   "outputs": [],
   "source": [
    "features_values = features_train.values\n",
    "labels_values = labels_train.values"
   ]
  },
  {
   "cell_type": "markdown",
   "metadata": {},
   "source": [
    "### Modelling with Validation"
   ]
  },
  {
   "cell_type": "markdown",
   "metadata": {},
   "source": [
    "#### Naive bayes Classifier"
   ]
  },
  {
   "cell_type": "code",
   "execution_count": 40,
   "metadata": {},
   "outputs": [
    {
     "name": "stdout",
     "output_type": "stream",
     "text": [
      "Train :  [    0     1     2 ... 54236 54237 54238] Validation :  [    4     6    31 ... 54227 54228 54231]\n",
      "Test data score :  0.6340339233038348\n",
      "Train data score :  0.6405245327372036\n",
      "\n",
      "\n",
      "Train :  [    2     3     4 ... 54236 54237 54238] Validation :  [    0     1     7 ... 54217 54225 54226]\n",
      "Test data score :  0.6387352507374632\n",
      "Train data score :  0.6366988546011846\n",
      "\n",
      "\n",
      "Train :  [    0     1     2 ... 54234 54235 54236] Validation :  [    3     8    14 ... 54232 54237 54238]\n",
      "Test data score :  0.6490597345132744\n",
      "Train data score :  0.6503191906155654\n",
      "\n",
      "\n",
      "Train :  [    0     1     2 ... 54236 54237 54238] Validation :  [    5    15    18 ... 54233 54234 54235]\n",
      "Test data score :  0.6323746312684366\n",
      "Train data score :  0.6449955059805028\n",
      "\n",
      "\n",
      "Train :  [    0     1     3 ... 54235 54237 54238] Validation :  [    2     9    10 ... 54220 54224 54236]\n",
      "Test data score :  0.6269014474048124\n",
      "Train data score :  0.6412472345132744\n",
      "\n",
      "\n",
      "[0.6340339233038348, 0.6387352507374632, 0.6490597345132744, 0.6323746312684366, 0.6269014474048124]\n",
      "Mean Accuracy :  0.6362209974455644\n",
      "Max Accuracy :  0.6490597345132744\n"
     ]
    }
   ],
   "source": [
    "# Gaussian Naive Bayes Classifier using cross validation\n",
    "\n",
    "nb_gb_test_scores = list()\n",
    "nb_gb_train_scores = list()\n",
    "kfold = KFold(5, shuffle=True, random_state=42)\n",
    "\n",
    "for train_index, test_index in kfold.split(features_values):\n",
    "    print(\"Train : \",train_index, \"Validation : \", test_index)\n",
    "    \n",
    "    features_train_fold, labels_train_fold = features_values[train_index], labels_values[train_index]\n",
    "    features_test_fold, labels_test_fold = features_values[test_index], labels_values[test_index]\n",
    "    \n",
    "    nb_gb = GaussianNB()\n",
    "    nb_gb.fit(features_train_fold, labels_train_fold)\n",
    "    print(\"Test data score : \", nb_gb.score(features_test_fold, labels_test_fold))\n",
    "    nb_gb_test_scores.append(nb_gb.score(features_test_fold, labels_test_fold))\n",
    "    print(\"Train data score : \", nb_gb.score(features_train_fold, labels_train_fold))\n",
    "    nb_gb_train_scores.append(nb_gb.score(features_train_fold, labels_train_fold))\n",
    "    print(\"\\n\")\n",
    "    \n",
    "print(nb_gb_test_scores)\n",
    "print(\"Mean Accuracy : \", np.mean(nb_gb_test_scores))\n",
    "print(\"Max Accuracy : \", max(nb_gb_test_scores))"
   ]
  },
  {
   "cell_type": "code",
   "execution_count": 41,
   "metadata": {},
   "outputs": [
    {
     "data": {
      "image/png": "[encoded data removed]",
      "text/plain": [
       "<Figure size 864x360 with 1 Axes>"
      ]
     },
     "metadata": {
      "needs_background": "light"
     },
     "output_type": "display_data"
    }
   ],
   "source": [
    "# result visualization with cross validation\n",
    "plt.figure(figsize=(12,5))\n",
    "p = sb.lineplot(range(1,6),nb_gb_train_scores,marker='*',label='Train Score')\n",
    "p = sb.lineplot(range(1,6),nb_gb_test_scores,marker='o',label='Test Score')"
   ]
  },
  {
   "cell_type": "code",
   "execution_count": 42,
   "metadata": {},
   "outputs": [
    {
     "name": "stdout",
     "output_type": "stream",
     "text": [
      "Accuracy :  0.6327110040437064\n",
      "[1 2 3 4 5 6]\n"
     ]
    }
   ],
   "source": [
    "# gaussian naive bayes without cross validation\n",
    "nb_gb = GaussianNB()\n",
    "nb_gb.fit(features_train, labels_train)\n",
    "predicted_labels = nb_gb.predict(features_test)\n",
    "print(\"Accuracy : \",accuracy_score(labels_test, predicted_labels))\n",
    "print(np.unique(predicted_labels))"
   ]
  },
  {
   "cell_type": "code",
   "execution_count": 43,
   "metadata": {},
   "outputs": [
    {
     "data": {
      "text/plain": [
       "Text(0.5,15,'Actual values')"
      ]
     },
     "execution_count": 43,
     "metadata": {},
     "output_type": "execute_result"
    },
    {
     "data": {
      "image/png": "[encoded data removed]",
      "text/plain": [
       "<Figure size 432x288 with 2 Axes>"
      ]
     },
     "metadata": {
      "needs_background": "light"
     },
     "output_type": "display_data"
    }
   ],
   "source": [
    "# confusion matrix\n",
    "cnf_matrix = confusion_matrix(labels_test, predicted_labels)\n",
    "p = sb.heatmap(pd.DataFrame(cnf_matrix), annot=True, cmap=\"YlGnBu\" ,fmt='g')\n",
    "plt.title(\"Confusion Matrix for Gaussian Naive Bayes\")\n",
    "plt.ylabel(\"Predicted values\")\n",
    "plt.xlabel(\"Actual values\")"
   ]
  },
  {
   "cell_type": "code",
   "execution_count": 44,
   "metadata": {},
   "outputs": [],
   "source": [
    "# ROC curve\n",
    "# label_binary = label_binarize(labels_train, classes = [0,1,2,3,4,5])\n",
    "# n_classes = label_binary.shape[1]\n",
    "# print(n_classess)\n",
    "# pred_prob_scores = nb_gb.predict_proba(features_test)\n",
    "# print(pred_prob_scores)"
   ]
  },
  {
   "cell_type": "code",
   "execution_count": 45,
   "metadata": {},
   "outputs": [
    {
     "name": "stdout",
     "output_type": "stream",
     "text": [
      "Train :  [    0     1     2 ... 54236 54237 54238] Validation :  [    4     6    31 ... 54227 54228 54231]\n",
      "Test data score :  0.9479166666666666\n",
      "Train data score :  0.9549445737595353\n",
      "\n",
      "\n",
      "Train :  [    2     3     4 ... 54236 54237 54238] Validation :  [    0     1     7 ... 54217 54225 54226]\n",
      "Test data score :  0.9539085545722714\n",
      "Train data score :  0.9534926597681547\n",
      "\n",
      "\n",
      "Train :  [    0     1     2 ... 54234 54235 54236] Validation :  [    3     8    14 ... 54232 54237 54238]\n",
      "Test data score :  0.952433628318584\n",
      "Train data score :  0.9537461685603005\n",
      "\n",
      "\n",
      "Train :  [    0     1     2 ... 54236 54237 54238] Validation :  [    5    15    18 ... 54233 54234 54235]\n",
      "Test data score :  0.9457964601769911\n",
      "Train data score :  0.9551519900440183\n",
      "\n",
      "\n",
      "Train :  [    0     1     3 ... 54235 54237 54238] Validation :  [    2     9    10 ... 54220 54224 54236]\n",
      "Test data score :  0.9504010325435605\n",
      "Train data score :  0.9539546460176991\n",
      "\n",
      "\n",
      "[0.9479166666666666, 0.9539085545722714, 0.952433628318584, 0.9457964601769911, 0.9504010325435605]\n",
      "Mean Accuracy :  0.9500912684556146\n",
      "Max Accuracy :  0.9539085545722714\n"
     ]
    }
   ],
   "source": [
    "# Bernoulli Naive Bayes Classifier using Cross validation\n",
    "nb_b_test_scores = list()\n",
    "nb_b_train_scores = list()\n",
    "kfold = KFold(5, shuffle=True, random_state=42)\n",
    "\n",
    "for train_index, test_index in kfold.split(features_values):\n",
    "    print(\"Train : \",train_index, \"Validation : \", test_index)\n",
    "    \n",
    "    features_train_fold, labels_train_fold = features_values[train_index], labels_values[train_index]\n",
    "    features_test_fold, labels_test_fold = features_values[test_index], labels_values[test_index]\n",
    "    \n",
    "    nb_b = BernoulliNB()\n",
    "    nb_b.fit(features_train_fold, labels_train_fold)\n",
    "    print(\"Test data score : \", nb_b.score(features_test_fold, labels_test_fold))\n",
    "    nb_b_test_scores.append(nb_b.score(features_test_fold, labels_test_fold))\n",
    "    print(\"Train data score : \", nb_b.score(features_train_fold, labels_train_fold))\n",
    "    nb_b_train_scores.append(nb_b.score(features_train_fold, labels_train_fold))\n",
    "    print(\"\\n\")\n",
    "    \n",
    "print(nb_b_test_scores)\n",
    "print(\"Mean Accuracy : \", np.mean(nb_b_test_scores))\n",
    "print(\"Max Accuracy : \", max(nb_b_test_scores))"
   ]
  },
  {
   "cell_type": "code",
   "execution_count": 46,
   "metadata": {},
   "outputs": [
    {
     "name": "stdout",
     "output_type": "stream",
     "text": [
      "Accuracy :  0.9496257420631506\n",
      "[2 3 4 5]\n"
     ]
    }
   ],
   "source": [
    "# Bernoulli Naive bayes without cross validation\n",
    "nb_b = BernoulliNB()\n",
    "nb_b.fit(features_train, labels_train)\n",
    "predicted_labels = nb_b.predict(features_test)\n",
    "print(\"Accuracy : \",accuracy_score(labels_test, predicted_labels))\n",
    "print(np.unique(predicted_labels))"
   ]
  },
  {
   "cell_type": "code",
   "execution_count": 47,
   "metadata": {},
   "outputs": [
    {
     "data": {
      "image/png": "[encoded data removed]",
      "text/plain": [
       "<Figure size 864x360 with 1 Axes>"
      ]
     },
     "metadata": {
      "needs_background": "light"
     },
     "output_type": "display_data"
    }
   ],
   "source": [
    "# result visualization with cross validation\n",
    "plt.figure(figsize=(12,5))\n",
    "p = sb.lineplot(range(1,6),nb_b_train_scores,marker='*',label='Train Score')\n",
    "p = sb.lineplot(range(1,6),nb_b_test_scores,marker='o',label='Test Score')"
   ]
  },
  {
   "cell_type": "code",
   "execution_count": 48,
   "metadata": {},
   "outputs": [
    {
     "data": {
      "text/plain": [
       "Text(0.5,15,'Actual values')"
      ]
     },
     "execution_count": 48,
     "metadata": {},
     "output_type": "execute_result"
    },
    {
     "data": {
      "image/png": "[encoded data removed]",
      "text/plain": [
       "<Figure size 432x288 with 2 Axes>"
      ]
     },
     "metadata": {
      "needs_background": "light"
     },
     "output_type": "display_data"
    }
   ],
   "source": [
    "# confusion matrix\n",
    "cnf_matrix = confusion_matrix(labels_test, predicted_labels)\n",
    "p = sb.heatmap(pd.DataFrame(cnf_matrix), annot=True, cmap=\"YlGnBu\" ,fmt='g')\n",
    "plt.title(\"Confusion Matrix for Bernoulli Naive Bayes\")\n",
    "plt.ylabel(\"Predicted values\")\n",
    "plt.xlabel(\"Actual values\")"
   ]
  },
  {
   "cell_type": "code",
   "execution_count": 49,
   "metadata": {},
   "outputs": [],
   "source": [
    "# roc curve"
   ]
  },
  {
   "cell_type": "markdown",
   "metadata": {},
   "source": [
    "#### Decision Tree Classifier "
   ]
  },
  {
   "cell_type": "code",
   "execution_count": 50,
   "metadata": {},
   "outputs": [
    {
     "name": "stdout",
     "output_type": "stream",
     "text": [
      "Train :  [    0     1     2 ... 54236 54237 54238] Validation :  [    4     6    31 ... 54227 54228 54231]\n",
      "Test data score :  0.9166666666666666\n",
      "Train data score :  0.9963356456408011\n",
      "\n",
      "\n",
      "Train :  [    2     3     4 ... 54236 54237 54238] Validation :  [    0     1     7 ... 54217 54225 54226]\n",
      "Test data score :  0.9204461651917404\n",
      "Train data score :  0.9959669055794981\n",
      "\n",
      "\n",
      "Train :  [    0     1     2 ... 54234 54235 54236] Validation :  [    3     8    14 ... 54232 54237 54238]\n",
      "Test data score :  0.9210914454277286\n",
      "Train data score :  0.9962895531331382\n",
      "\n",
      "\n",
      "Train :  [    0     1     2 ... 54236 54237 54238] Validation :  [    5    15    18 ... 54233 54234 54235]\n",
      "Test data score :  0.9130715339233039\n",
      "Train data score :  0.9964278306561268\n",
      "\n",
      "\n",
      "Train :  [    0     1     3 ... 54235 54237 54238] Validation :  [    2     9    10 ... 54220 54224 54236]\n",
      "Test data score :  0.916382409882917\n",
      "Train data score :  0.9963587758112095\n",
      "\n",
      "\n",
      "[0.9166666666666666, 0.9204461651917404, 0.9210914454277286, 0.9130715339233039, 0.916382409882917]\n",
      "Mean Accuracy :  0.9175316442184712\n",
      "Max Accuracy :  0.9210914454277286\n"
     ]
    }
   ],
   "source": [
    "# Decision Tree Classifier | C5.0 with cross validation\n",
    "\n",
    "dt_c_test_scores = list()\n",
    "dt_c_train_scores = list()\n",
    "kfold = KFold(5, shuffle=True, random_state=42)\n",
    "\n",
    "for train_index, test_index in kfold.split(features_values):\n",
    "    print(\"Train : \",train_index, \"Validation : \", test_index)\n",
    "    \n",
    "    features_train_fold, labels_train_fold = features_values[train_index], labels_values[train_index]\n",
    "    features_test_fold, labels_test_fold = features_values[test_index], labels_values[test_index]\n",
    "    \n",
    "    dt_c = DecisionTreeClassifier(random_state=1,criterion=\"entropy\")\n",
    "    dt_c.fit(features_train_fold, labels_train_fold)\n",
    "    print(\"Test data score : \", dt_c.score(features_test_fold, labels_test_fold))\n",
    "    dt_c_test_scores.append(dt_c.score(features_test_fold, labels_test_fold))\n",
    "    print(\"Train data score : \", dt_c.score(features_train_fold, labels_train_fold))\n",
    "    dt_c_train_scores.append(dt_c.score(features_train_fold, labels_train_fold))\n",
    "    print(\"\\n\")\n",
    "    \n",
    "print(dt_c_test_scores)\n",
    "print(\"Mean Accuracy : \", np.mean(dt_c_test_scores))\n",
    "print(\"Max Accuracy : \", max(dt_c_test_scores))"
   ]
  },
  {
   "cell_type": "code",
   "execution_count": 51,
   "metadata": {},
   "outputs": [
    {
     "name": "stdout",
     "output_type": "stream",
     "text": [
      "Accuracy :  0.9183515443517164\n",
      "[1 2 3 4 5 6]\n"
     ]
    }
   ],
   "source": [
    "# Decision Tree Classifier | C5.0 with out cross validation\n",
    "dt_c = DecisionTreeClassifier(random_state=1, criterion=\"entropy\")\n",
    "dt_c.fit(features_train, labels_train)\n",
    "predicted_labels = dt_c.predict(features_test)\n",
    "print(\"Accuracy : \", accuracy_score(labels_test, predicted_labels))\n",
    "print(np.unique(predicted_labels))"
   ]
  },
  {
   "cell_type": "code",
   "execution_count": 52,
   "metadata": {},
   "outputs": [
    {
     "data": {
      "image/png": "[encoded data removed]",
      "text/plain": [
       "<Figure size 864x360 with 1 Axes>"
      ]
     },
     "metadata": {
      "needs_background": "light"
     },
     "output_type": "display_data"
    }
   ],
   "source": [
    "# result visualization with cross validation\n",
    "plt.figure(figsize=(12,5))\n",
    "p = sb.lineplot(range(1,6),dt_c_train_scores,marker='*',label='Train Score')\n",
    "p = sb.lineplot(range(1,6),dt_c_test_scores,marker='o',label='Test Score')"
   ]
  },
  {
   "cell_type": "code",
   "execution_count": 53,
   "metadata": {},
   "outputs": [
    {
     "data": {
      "text/plain": [
       "Text(0.5,15,'Actual values')"
      ]
     },
     "execution_count": 53,
     "metadata": {},
     "output_type": "execute_result"
    },
    {
     "data": {
      "image/png": "[encoded data removed]",
      "text/plain": [
       "<Figure size 432x288 with 2 Axes>"
      ]
     },
     "metadata": {
      "needs_background": "light"
     },
     "output_type": "display_data"
    }
   ],
   "source": [
    "# Confusion Matrix\n",
    "cnf_matrix = confusion_matrix(labels_test, predicted_labels)\n",
    "p = sb.heatmap(pd.DataFrame(cnf_matrix), annot=True, cmap=\"YlGnBu\" ,fmt='g')\n",
    "plt.title(\"Confusion Matrix for Decision Tree C50 Classifier\")\n",
    "plt.ylabel(\"Predicted values\")\n",
    "plt.xlabel(\"Actual values\")"
   ]
  },
  {
   "cell_type": "code",
   "execution_count": 54,
   "metadata": {},
   "outputs": [],
   "source": [
    "# roc curve"
   ]
  },
  {
   "cell_type": "code",
   "execution_count": 55,
   "metadata": {},
   "outputs": [
    {
     "name": "stdout",
     "output_type": "stream",
     "text": [
      "Train :  [    0     1     2 ... 54236 54237 54238] Validation :  [    4     6    31 ... 54227 54228 54231]\n",
      "Test data score :  0.917957227138643\n",
      "Train data score :  0.9963356456408011\n",
      "\n",
      "\n",
      "Train :  [    2     3     4 ... 54236 54237 54238] Validation :  [    0     1     7 ... 54217 54225 54226]\n",
      "Test data score :  0.919339970501475\n",
      "Train data score :  0.9959669055794981\n",
      "\n",
      "\n",
      "Train :  [    0     1     2 ... 54234 54235 54236] Validation :  [    3     8    14 ... 54232 54237 54238]\n",
      "Test data score :  0.9182337758112095\n",
      "Train data score :  0.9962895531331382\n",
      "\n",
      "\n",
      "Train :  [    0     1     2 ... 54236 54237 54238] Validation :  [    5    15    18 ... 54233 54234 54235]\n",
      "Test data score :  0.913901179941003\n",
      "Train data score :  0.9964278306561268\n",
      "\n",
      "\n",
      "Train :  [    0     1     3 ... 54235 54237 54238] Validation :  [    2     9    10 ... 54220 54224 54236]\n",
      "Test data score :  0.9130635198672444\n",
      "Train data score :  0.9963587758112095\n",
      "\n",
      "\n",
      "[0.917957227138643, 0.919339970501475, 0.9182337758112095, 0.913901179941003, 0.9130635198672444]\n",
      "Mean Accuracy :  0.916499134651915\n",
      "Max Accuracy :  0.919339970501475\n"
     ]
    }
   ],
   "source": [
    "# Decision Tree Classifier | CART with cross validation\n",
    "\n",
    "dt_ca_test_scores = list()\n",
    "dt_ca_train_scores = list()\n",
    "kfold = KFold(5, shuffle=True, random_state=42)\n",
    "\n",
    "for train_index, test_index in kfold.split(features_values):\n",
    "    print(\"Train : \",train_index, \"Validation : \", test_index)\n",
    "    \n",
    "    features_train_fold, labels_train_fold = features_values[train_index], labels_values[train_index]\n",
    "    features_test_fold, labels_test_fold = features_values[test_index], labels_values[test_index]\n",
    "    \n",
    "    dt_ca = DecisionTreeClassifier(random_state=1,criterion=\"gini\")\n",
    "    dt_ca.fit(features_train_fold, labels_train_fold)\n",
    "    print(\"Test data score : \", dt_ca.score(features_test_fold, labels_test_fold))\n",
    "    dt_ca_test_scores.append(dt_ca.score(features_test_fold, labels_test_fold))\n",
    "    print(\"Train data score : \", dt_ca.score(features_train_fold, labels_train_fold))\n",
    "    dt_ca_train_scores.append(dt_ca.score(features_train_fold, labels_train_fold))\n",
    "    print(\"\\n\")\n",
    "    \n",
    "print(dt_ca_test_scores)\n",
    "print(\"Mean Accuracy : \", np.mean(dt_ca_test_scores))\n",
    "print(\"Max Accuracy : \", max(dt_ca_test_scores))"
   ]
  },
  {
   "cell_type": "code",
   "execution_count": 56,
   "metadata": {},
   "outputs": [
    {
     "name": "stdout",
     "output_type": "stream",
     "text": [
      "Accuracy :  0.9179643809687689\n",
      "[1 2 3 4 5 6]\n"
     ]
    }
   ],
   "source": [
    "# Decision Tree Classifier | CART with out cross validation\n",
    "dt_ca = DecisionTreeClassifier(random_state=1, criterion=\"gini\")\n",
    "dt_ca.fit(features_train, labels_train)\n",
    "predicted_labels = dt_ca.predict(features_test)\n",
    "print(\"Accuracy : \", accuracy_score(labels_test, predicted_labels))\n",
    "print(np.unique(predicted_labels))"
   ]
  },
  {
   "cell_type": "code",
   "execution_count": 57,
   "metadata": {},
   "outputs": [
    {
     "data": {
      "image/png": "[encoded data removed]",
      "text/plain": [
       "<Figure size 864x360 with 1 Axes>"
      ]
     },
     "metadata": {
      "needs_background": "light"
     },
     "output_type": "display_data"
    }
   ],
   "source": [
    "# result visualization with cross validation\n",
    "plt.figure(figsize=(12,5))\n",
    "p = sb.lineplot(range(1,6),dt_ca_train_scores,marker='*',label='Train Score')\n",
    "p = sb.lineplot(range(1,6),dt_ca_test_scores,marker='o',label='Test Score')"
   ]
  },
  {
   "cell_type": "code",
   "execution_count": 58,
   "metadata": {},
   "outputs": [
    {
     "data": {
      "text/plain": [
       "Text(0.5,15,'Actual values')"
      ]
     },
     "execution_count": 58,
     "metadata": {},
     "output_type": "execute_result"
    },
    {
     "data": {
      "image/png": "[encoded data removed]",
      "text/plain": [
       "<Figure size 432x288 with 2 Axes>"
      ]
     },
     "metadata": {
      "needs_background": "light"
     },
     "output_type": "display_data"
    }
   ],
   "source": [
    "# Confusion Matrix\n",
    "cnf_matrix = confusion_matrix(labels_test, predicted_labels)\n",
    "p = sb.heatmap(pd.DataFrame(cnf_matrix), annot=True, cmap=\"YlGnBu\" ,fmt='g')\n",
    "plt.title(\"Confusion Matrix for Decision Tree CART Classifier\")\n",
    "plt.ylabel(\"Predicted values\")\n",
    "plt.xlabel(\"Actual values\")"
   ]
  },
  {
   "cell_type": "markdown",
   "metadata": {},
   "source": [
    "#### Random Forest Classifier"
   ]
  },
  {
   "cell_type": "code",
   "execution_count": 59,
   "metadata": {},
   "outputs": [
    {
     "name": "stdout",
     "output_type": "stream",
     "text": [
      "Train :  [    0     1     2 ... 54236 54237 54238] Validation :  [    4     6    31 ... 54227 54228 54231]\n",
      "Test data score :  0.9373156342182891\n",
      "Train data score :  0.9905510359291098\n",
      "\n",
      "\n",
      "Train :  [    2     3     4 ... 54236 54237 54238] Validation :  [    0     1     7 ... 54217 54225 54226]\n",
      "Test data score :  0.9414638643067846\n",
      "Train data score :  0.9901131571063123\n",
      "\n",
      "\n",
      "Train :  [    0     1     2 ... 54234 54235 54236] Validation :  [    3     8    14 ... 54232 54237 54238]\n",
      "Test data score :  0.9383296460176991\n",
      "Train data score :  0.9906893134520983\n",
      "\n",
      "\n",
      "Train :  [    0     1     2 ... 54236 54237 54238] Validation :  [    5    15    18 ... 54233 54234 54235]\n",
      "Test data score :  0.9328908554572272\n",
      "Train data score :  0.990827590975087\n",
      "\n",
      "\n",
      "Train :  [    0     1     3 ... 54235 54237 54238] Validation :  [    2     9    10 ... 54220 54224 54236]\n",
      "Test data score :  0.937402046648843\n",
      "Train data score :  0.990320796460177\n",
      "\n",
      "\n",
      "[0.9373156342182891, 0.9414638643067846, 0.9383296460176991, 0.9328908554572272, 0.937402046648843]\n",
      "Mean Accuracy :  0.9374804093297685\n",
      "Max Accuracy :  0.9414638643067846\n"
     ]
    }
   ],
   "source": [
    "# Random Forest Classifier with cross validation\n",
    "\n",
    "rf_test_scores = list()\n",
    "rf_train_scores = list()\n",
    "kfold = KFold(5, shuffle=True, random_state=42)\n",
    "\n",
    "for train_index, test_index in kfold.split(features_values):\n",
    "    print(\"Train : \",train_index, \"Validation : \", test_index)\n",
    "    \n",
    "    features_train_fold, labels_train_fold = features_values[train_index], labels_values[train_index]\n",
    "    features_test_fold, labels_test_fold = features_values[test_index], labels_values[test_index]\n",
    "    \n",
    "    rf = RandomForestClassifier()\n",
    "    rf.fit(features_train_fold, labels_train_fold)\n",
    "    print(\"Test data score : \", rf.score(features_test_fold, labels_test_fold))\n",
    "    rf_test_scores.append(rf.score(features_test_fold, labels_test_fold))\n",
    "    print(\"Train data score : \", rf.score(features_train_fold, labels_train_fold))\n",
    "    rf_train_scores.append(rf.score(features_train_fold, labels_train_fold))\n",
    "    print(\"\\n\")\n",
    "    \n",
    "print(rf_test_scores)\n",
    "print(\"Mean Accuracy : \", np.mean(rf_test_scores))\n",
    "print(\"Max Accuracy : \", max(rf_test_scores))"
   ]
  },
  {
   "cell_type": "code",
   "execution_count": 60,
   "metadata": {},
   "outputs": [
    {
     "name": "stdout",
     "output_type": "stream",
     "text": [
      "Accuracy :  0.9362040781209671\n",
      "[2 3 4 5]\n"
     ]
    }
   ],
   "source": [
    "# Random Forest Classifier without Cross Validation\n",
    "rf_model = RandomForestClassifier()\n",
    "rf_model.fit(features_train, labels_train)\n",
    "predicted_labels = rf_model.predict(features_test)\n",
    "print(\"Accuracy : \", accuracy_score(labels_test, predicted_labels))\n",
    "print(np.unique(predicted_labels))"
   ]
  },
  {
   "cell_type": "code",
   "execution_count": 61,
   "metadata": {},
   "outputs": [
    {
     "data": {
      "image/png": "[encoded data removed]",
      "text/plain": [
       "<Figure size 864x360 with 1 Axes>"
      ]
     },
     "metadata": {
      "needs_background": "light"
     },
     "output_type": "display_data"
    }
   ],
   "source": [
    "# result visualization with cross validation\n",
    "plt.figure(figsize=(12,5))\n",
    "p = sb.lineplot(range(1,6),rf_train_scores,marker='*',label='Train Score')\n",
    "p = sb.lineplot(range(1,6),rf_test_scores,marker='o',label='Test Score')"
   ]
  },
  {
   "cell_type": "code",
   "execution_count": 62,
   "metadata": {},
   "outputs": [
    {
     "data": {
      "text/plain": [
       "Text(0.5,15,'Actual values')"
      ]
     },
     "execution_count": 62,
     "metadata": {},
     "output_type": "execute_result"
    },
    {
     "data": {
      "image/png": "[encoded data removed]",
      "text/plain": [
       "<Figure size 432x288 with 2 Axes>"
      ]
     },
     "metadata": {
      "needs_background": "light"
     },
     "output_type": "display_data"
    }
   ],
   "source": [
    "# Confusion Matrix\n",
    "cnf_matrix = confusion_matrix(labels_test, predicted_labels)\n",
    "p = sb.heatmap(pd.DataFrame(cnf_matrix), annot=True, cmap=\"YlGnBu\" ,fmt='g')\n",
    "plt.title(\"Confusion Matrix for Decision Tree Random Forest Classifier\")\n",
    "plt.ylabel(\"Predicted values\")\n",
    "plt.xlabel(\"Actual values\")"
   ]
  },
  {
   "cell_type": "code",
   "execution_count": 63,
   "metadata": {},
   "outputs": [],
   "source": [
    "# roc curve"
   ]
  },
  {
   "cell_type": "markdown",
   "metadata": {},
   "source": [
    "### Gradient Boost Classifier"
   ]
  },
  {
   "cell_type": "code",
   "execution_count": 65,
   "metadata": {},
   "outputs": [
    {
     "name": "stdout",
     "output_type": "stream",
     "text": [
      "Train :  [    0     1     2 ... 54236 54237 54238] Validation :  [    4     6    31 ... 54227 54228 54231]\n",
      "Test data score :  0.9345501474926253\n",
      "Train data score :  0.9387430573160332\n",
      "\n",
      "\n",
      "Train :  [    2     3     4 ... 54236 54237 54238] Validation :  [    0     1     7 ... 54217 54225 54226]\n",
      "Test data score :  0.9385140117994101\n",
      "Train data score :  0.937106773294001\n",
      "\n",
      "\n",
      "Train :  [    0     1     2 ... 54234 54235 54236] Validation :  [    3     8    14 ... 54232 54237 54238]\n",
      "Test data score :  0.9383296460176991\n",
      "Train data score :  0.9367610794865294\n",
      "\n",
      "\n",
      "Train :  [    0     1     2 ... 54236 54237 54238] Validation :  [    5    15    18 ... 54233 54234 54235]\n",
      "Test data score :  0.9331674041297935\n",
      "Train data score :  0.9388352423313591\n",
      "\n",
      "\n",
      "Train :  [    0     1     3 ... 54235 54237 54238] Validation :  [    2     9    10 ... 54220 54224 54236]\n",
      "Test data score :  0.9329768599612797\n",
      "Train data score :  0.9376382743362832\n",
      "\n",
      "\n",
      "[0.9345501474926253, 0.9385140117994101, 0.9383296460176991, 0.9331674041297935, 0.9329768599612797]\n",
      "Mean Accuracy :  0.9355076138801616\n",
      "Max Accuracy :  0.9385140117994101\n"
     ]
    }
   ],
   "source": [
    "# Gradient Boost Classifier\n",
    "\n",
    "gbm_test_scores = list()\n",
    "gbm_train_scores = list()\n",
    "kfold = KFold(5, shuffle=True, random_state=42)\n",
    "\n",
    "for train_index, test_index in kfold.split(features_values):\n",
    "    print(\"Train : \",train_index, \"Validation : \", test_index)\n",
    "    \n",
    "    features_train_fold, labels_train_fold = features_values[train_index], labels_values[train_index]\n",
    "    features_test_fold, labels_test_fold = features_values[test_index], labels_values[test_index]\n",
    "    \n",
    "    gbm = GradientBoostingClassifier()\n",
    "    gbm.fit(features_train_fold, labels_train_fold)\n",
    "    print(\"Test data score : \", gbm.score(features_test_fold, labels_test_fold))\n",
    "    gbm_test_scores.append(gbm.score(features_test_fold, labels_test_fold))\n",
    "    print(\"Train data score : \", gbm.score(features_train_fold, labels_train_fold))\n",
    "    gbm_train_scores.append(gbm.score(features_train_fold, labels_train_fold))\n",
    "    print(\"\\n\")\n",
    "    \n",
    "print(gbm_test_scores)\n",
    "print(\"Mean Accuracy : \", np.mean(gbm_test_scores))\n",
    "print(\"Max Accuracy : \", max(gbm_test_scores))"
   ]
  },
  {
   "cell_type": "code",
   "execution_count": 66,
   "metadata": {},
   "outputs": [
    {
     "name": "stdout",
     "output_type": "stream",
     "text": [
      "Accuracy :  0.9425707648627721\n",
      "[1 2 3 4 5 6]\n"
     ]
    }
   ],
   "source": [
    "# Gradient Boost Classifer without cross validation\n",
    "gbm = GradientBoostingClassifier(criterion='mse',learning_rate=0.3,n_estimators=50)\n",
    "gbm.fit(features_train,labels_train)\n",
    "predicted_labels = gbm.predict(features_test)\n",
    "print(\"Accuracy : \",accuracy_score(labels_test, predicted_labels))\n",
    "print(np.unique(predicted_labels))"
   ]
  },
  {
   "cell_type": "markdown",
   "metadata": {},
   "source": [
    "### KNN Classfier"
   ]
  },
  {
   "cell_type": "code",
   "execution_count": null,
   "metadata": {},
   "outputs": [],
   "source": [
    "# K Nearest Neighbour with cross validation\n",
    "\n",
    "knn_test_scores = list()\n",
    "knn_train_scores = list()\n",
    "\n",
    "kfold  = KFold(5, shuffle = True, random_state = 42)\n",
    "\n",
    "for train_index, test_index in kfold.split(features_values):\n",
    "    print(\"Train : \", train_index, \"Validation : \", test_index)\n",
    "    \n",
    "    features_train_fold, labels_train_fold = features_values[train_index], labels_values[train_index]\n",
    "    features_test_fold, labels_test_fold = features_values[test_index], labels_values[test_index]\n",
    "    \n",
    "    knn = KNeighborsClassifier()\n",
    "    knn.fit(features_train_fold, labels_train_fold)\n",
    "    print(\"Test Data Score\", knn.score(features_test_fold, labels_test_fold))\n",
    "    knn_test_scores.append(knn.score(features_test_fold, labels_test_fold))\n",
    "    print(\"Train Data Score\", knn.score(features_train_fold, labels_train_fold))\n",
    "    knn_train_scores.append(knn.score(features_train_fold, labels_train_fold))\n",
    "    print(\"\\n\")\n",
    "\n",
    "print(knn_test_scores)\n",
    "print(\"Mean Accuracy : \", np.mean(knn_test_scores))\n",
    "print(\"Max Accuracy : \", max(knn_test_scores))\n"
   ]
  },
  {
   "cell_type": "code",
   "execution_count": null,
   "metadata": {},
   "outputs": [],
   "source": [
    "# K Nearest Neighbour without cross validation\n",
    "knn = KNeighborsClassifier()\n",
    "knn.fit(features_train, labels_train)\n",
    "predicted_labels = knn.predict(features_test)\n",
    "print(\"Accuracy : \", accuracy_score(labels_test, predicted_labels))\n",
    "print(np.unique(predicted_labels))"
   ]
  },
  {
   "cell_type": "code",
   "execution_count": null,
   "metadata": {},
   "outputs": [],
   "source": [
    "# Xtreme Gradient boost Classifier\n",
    "xgb = XGBClassifier(max_depth = 3, learning_rate=0.3, n_jobs=4, n_estimators=100)\n",
    "xgb.fit(features_train, labels_train)\n",
    "predicted_labels = xgb.predict(features_test)\n",
    "print(\"Accuracy : \", accuracy_score(labels_test, predicted_labels))\n",
    "print(np.unique(predicted_labels))"
   ]
  },
  {
   "cell_type": "markdown",
   "metadata": {},
   "source": [
    "### Modelling and Evaluation"
   ]
  },
  {
   "cell_type": "code",
   "execution_count": null,
   "metadata": {},
   "outputs": [],
   "source": [
    "# Accuracies with different Algorithms : \n",
    "# Xtreme Gradient Boost Classifier : 0.9463133 | [2 3 4 5]\n",
    "# K Nearest Neighbour : 0.8249591 | [2 3 4 5]\n",
    "# Gradient Boost Classifier : 0.9426568011700938 | [1 2 3 4 5 6]\n",
    "# Random Forest Classifier : 0.9367202959648971 | [2 3 4 5]\n",
    "# Decision Tree, CART : 0.9179643809687689 | [1 2 3 4 5 6]\n",
    "# Decision Tree, C50 : 0.9183945625053773 | [1 2 3 4 5 6]\n",
    "# Bernoulli Naive Bayes : 0.9496257420631506 | [2 3 4 5]\n",
    "# Gaussian naive Bayes : 0.6327110040437064 | [1 2 3 4 5 6]"
   ]
  },
  {
   "cell_type": "code",
   "execution_count": null,
   "metadata": {},
   "outputs": [],
   "source": [
    "# Further processing with the Gradeint Boost Algorithm as it gives the best results \n",
    "# and optimizing it using KFold cross validation"
   ]
  },
  {
   "cell_type": "code",
   "execution_count": 67,
   "metadata": {},
   "outputs": [
    {
     "ename": "KeyError",
     "evalue": "'[    0     1     2 ... 54236 54237 54238] not in index'",
     "output_type": "error",
     "traceback": [
      "\u001b[1;31m---------------------------------------------------------------------------\u001b[0m",
      "\u001b[1;31mKeyError\u001b[0m                                  Traceback (most recent call last)",
      "\u001b[1;32m<ipython-input-67-166851136e32>\u001b[0m in \u001b[0;36m<module>\u001b[1;34m()\u001b[0m\n\u001b[0;32m      7\u001b[0m \u001b[1;33m\u001b[0m\u001b[0m\n\u001b[0;32m      8\u001b[0m \u001b[1;32mfor\u001b[0m \u001b[0mtrain_index\u001b[0m\u001b[1;33m,\u001b[0m \u001b[0mtest_index\u001b[0m \u001b[1;32min\u001b[0m \u001b[0mkfold\u001b[0m\u001b[1;33m.\u001b[0m\u001b[0msplit\u001b[0m\u001b[1;33m(\u001b[0m\u001b[0mfeatures_values\u001b[0m\u001b[1;33m)\u001b[0m\u001b[1;33m:\u001b[0m\u001b[1;33m\u001b[0m\u001b[0m\n\u001b[1;32m----> 9\u001b[1;33m     \u001b[0mfeatures_train_fold\u001b[0m\u001b[1;33m,\u001b[0m \u001b[0mlabels_train_fold\u001b[0m \u001b[1;33m=\u001b[0m \u001b[0mfeatures_train\u001b[0m\u001b[1;33m[\u001b[0m\u001b[0mtrain_index\u001b[0m\u001b[1;33m]\u001b[0m\u001b[1;33m,\u001b[0m \u001b[0mlabels_train\u001b[0m\u001b[1;33m[\u001b[0m\u001b[0mtrain_index\u001b[0m\u001b[1;33m]\u001b[0m\u001b[1;33m\u001b[0m\u001b[0m\n\u001b[0m\u001b[0;32m     10\u001b[0m     \u001b[0mfeatures_test_fold\u001b[0m\u001b[1;33m,\u001b[0m \u001b[0mlabels_test_fold\u001b[0m \u001b[1;33m=\u001b[0m \u001b[0mfeatures_test\u001b[0m\u001b[1;33m[\u001b[0m\u001b[0mtest_index\u001b[0m\u001b[1;33m]\u001b[0m\u001b[1;33m,\u001b[0m \u001b[0mfeatures_test\u001b[0m\u001b[1;33m[\u001b[0m\u001b[0mtest_index\u001b[0m\u001b[1;33m]\u001b[0m\u001b[1;33m\u001b[0m\u001b[0m\n\u001b[0;32m     11\u001b[0m \u001b[1;33m\u001b[0m\u001b[0m\n",
      "\u001b[1;32mC:\\Anaconda\\lib\\site-packages\\pandas\\core\\frame.py\u001b[0m in \u001b[0;36m__getitem__\u001b[1;34m(self, key)\u001b[0m\n\u001b[0;32m   2680\u001b[0m         \u001b[1;32mif\u001b[0m \u001b[0misinstance\u001b[0m\u001b[1;33m(\u001b[0m\u001b[0mkey\u001b[0m\u001b[1;33m,\u001b[0m \u001b[1;33m(\u001b[0m\u001b[0mSeries\u001b[0m\u001b[1;33m,\u001b[0m \u001b[0mnp\u001b[0m\u001b[1;33m.\u001b[0m\u001b[0mndarray\u001b[0m\u001b[1;33m,\u001b[0m \u001b[0mIndex\u001b[0m\u001b[1;33m,\u001b[0m \u001b[0mlist\u001b[0m\u001b[1;33m)\u001b[0m\u001b[1;33m)\u001b[0m\u001b[1;33m:\u001b[0m\u001b[1;33m\u001b[0m\u001b[0m\n\u001b[0;32m   2681\u001b[0m             \u001b[1;31m# either boolean or fancy integer index\u001b[0m\u001b[1;33m\u001b[0m\u001b[1;33m\u001b[0m\u001b[0m\n\u001b[1;32m-> 2682\u001b[1;33m             \u001b[1;32mreturn\u001b[0m \u001b[0mself\u001b[0m\u001b[1;33m.\u001b[0m\u001b[0m_getitem_array\u001b[0m\u001b[1;33m(\u001b[0m\u001b[0mkey\u001b[0m\u001b[1;33m)\u001b[0m\u001b[1;33m\u001b[0m\u001b[0m\n\u001b[0m\u001b[0;32m   2683\u001b[0m         \u001b[1;32melif\u001b[0m \u001b[0misinstance\u001b[0m\u001b[1;33m(\u001b[0m\u001b[0mkey\u001b[0m\u001b[1;33m,\u001b[0m \u001b[0mDataFrame\u001b[0m\u001b[1;33m)\u001b[0m\u001b[1;33m:\u001b[0m\u001b[1;33m\u001b[0m\u001b[0m\n\u001b[0;32m   2684\u001b[0m             \u001b[1;32mreturn\u001b[0m \u001b[0mself\u001b[0m\u001b[1;33m.\u001b[0m\u001b[0m_getitem_frame\u001b[0m\u001b[1;33m(\u001b[0m\u001b[0mkey\u001b[0m\u001b[1;33m)\u001b[0m\u001b[1;33m\u001b[0m\u001b[0m\n",
      "\u001b[1;32mC:\\Anaconda\\lib\\site-packages\\pandas\\core\\frame.py\u001b[0m in \u001b[0;36m_getitem_array\u001b[1;34m(self, key)\u001b[0m\n\u001b[0;32m   2724\u001b[0m             \u001b[1;32mreturn\u001b[0m \u001b[0mself\u001b[0m\u001b[1;33m.\u001b[0m\u001b[0m_take\u001b[0m\u001b[1;33m(\u001b[0m\u001b[0mindexer\u001b[0m\u001b[1;33m,\u001b[0m \u001b[0maxis\u001b[0m\u001b[1;33m=\u001b[0m\u001b[1;36m0\u001b[0m\u001b[1;33m)\u001b[0m\u001b[1;33m\u001b[0m\u001b[0m\n\u001b[0;32m   2725\u001b[0m         \u001b[1;32melse\u001b[0m\u001b[1;33m:\u001b[0m\u001b[1;33m\u001b[0m\u001b[0m\n\u001b[1;32m-> 2726\u001b[1;33m             \u001b[0mindexer\u001b[0m \u001b[1;33m=\u001b[0m \u001b[0mself\u001b[0m\u001b[1;33m.\u001b[0m\u001b[0mloc\u001b[0m\u001b[1;33m.\u001b[0m\u001b[0m_convert_to_indexer\u001b[0m\u001b[1;33m(\u001b[0m\u001b[0mkey\u001b[0m\u001b[1;33m,\u001b[0m \u001b[0maxis\u001b[0m\u001b[1;33m=\u001b[0m\u001b[1;36m1\u001b[0m\u001b[1;33m)\u001b[0m\u001b[1;33m\u001b[0m\u001b[0m\n\u001b[0m\u001b[0;32m   2727\u001b[0m             \u001b[1;32mreturn\u001b[0m \u001b[0mself\u001b[0m\u001b[1;33m.\u001b[0m\u001b[0m_take\u001b[0m\u001b[1;33m(\u001b[0m\u001b[0mindexer\u001b[0m\u001b[1;33m,\u001b[0m \u001b[0maxis\u001b[0m\u001b[1;33m=\u001b[0m\u001b[1;36m1\u001b[0m\u001b[1;33m)\u001b[0m\u001b[1;33m\u001b[0m\u001b[0m\n\u001b[0;32m   2728\u001b[0m \u001b[1;33m\u001b[0m\u001b[0m\n",
      "\u001b[1;32mC:\\Anaconda\\lib\\site-packages\\pandas\\core\\indexing.py\u001b[0m in \u001b[0;36m_convert_to_indexer\u001b[1;34m(self, obj, axis, is_setter)\u001b[0m\n\u001b[0;32m   1325\u001b[0m                 \u001b[1;32mif\u001b[0m \u001b[0mmask\u001b[0m\u001b[1;33m.\u001b[0m\u001b[0many\u001b[0m\u001b[1;33m(\u001b[0m\u001b[1;33m)\u001b[0m\u001b[1;33m:\u001b[0m\u001b[1;33m\u001b[0m\u001b[0m\n\u001b[0;32m   1326\u001b[0m                     raise KeyError('{mask} not in index'\n\u001b[1;32m-> 1327\u001b[1;33m                                    .format(mask=objarr[mask]))\n\u001b[0m\u001b[0;32m   1328\u001b[0m \u001b[1;33m\u001b[0m\u001b[0m\n\u001b[0;32m   1329\u001b[0m                 \u001b[1;32mreturn\u001b[0m \u001b[0mcom\u001b[0m\u001b[1;33m.\u001b[0m\u001b[0m_values_from_object\u001b[0m\u001b[1;33m(\u001b[0m\u001b[0mindexer\u001b[0m\u001b[1;33m)\u001b[0m\u001b[1;33m\u001b[0m\u001b[0m\n",
      "\u001b[1;31mKeyError\u001b[0m: '[    0     1     2 ... 54236 54237 54238] not in index'"
     ]
    }
   ],
   "source": [
    "# Gradient Boost Classifier with optimization and cross validation\n",
    "\n",
    "gbm_train_scores = list()\n",
    "gbm_test_scores = list()\n",
    "\n",
    "kfold = KFold(5, shuffle = True, random_state=42)\n",
    "\n",
    "for train_index, test_index in kfold.split(features_values):\n",
    "    features_train_fold, labels_train_fold = features_train[train_index], labels_train[train_index]\n",
    "    features_test_fold, labels_test_fold = features_test[test_index], features_test[test_index]\n",
    "    \n",
    "    gbm = GradientBoostingClassifier(criterion=\"mse\", learning_rate=0.1, n_estimators=200, subsample=0.4)\n",
    "    gbm.fit(features_train_fold, labels_train_fold)\n",
    "    print(\"Test Data Score : \", gbm.score(features_test_fold, labels_test_fold))\n",
    "    gbm_test_scores.append(gbm.score(features_test_fold, labels_test_fold))\n",
    "    print(\"Train Data Score : \", gbm.score(features_train_fold, labels_train_fold))\n",
    "    gbm_train_scores.append(gbm.score(features_train_fold, labels_train_fold))\n",
    "    print(\"\\n\")\n",
    "\n",
    "print(gbm_test_scores)\n",
    "print(\"Mean Accuracy : \", np.mean(gbm_test_scores))\n",
    "print(\"Maximum Accuracy : \", max(gbm_test_scores))\n"
   ]
  },
  {
   "cell_type": "code",
   "execution_count": 68,
   "metadata": {},
   "outputs": [
    {
     "name": "stdout",
     "output_type": "stream",
     "text": [
      "Train :  [    0     1     2 ... 54236 54237 54238] Validation :  [    4     6    31 ... 54227 54228 54231]\n",
      "Test data score :  0.943952802359882\n",
      "Train data score :  0.9494826116014842\n",
      "\n",
      "\n",
      "Train :  [    2     3     4 ... 54236 54237 54238] Validation :  [    0     1     7 ... 54217 54225 54226]\n",
      "Test data score :  0.9501290560471977\n",
      "Train data score :  0.9479846051024406\n",
      "\n",
      "\n",
      "Train :  [    0     1     2 ... 54234 54235 54236] Validation :  [    3     8    14 ... 54232 54237 54238]\n",
      "Test data score :  0.9496681415929203\n",
      "Train data score :  0.9486299002097209\n",
      "\n",
      "\n",
      "Train :  [    0     1     2 ... 54236 54237 54238] Validation :  [    5    15    18 ... 54233 54234 54235]\n",
      "Test data score :  0.9423856932153393\n",
      "Train data score :  0.9504275080085732\n",
      "\n",
      "\n",
      "Train :  [    0     1     3 ... 54235 54237 54238] Validation :  [    2     9    10 ... 54220 54224 54236]\n",
      "Test data score :  0.9462524200239698\n",
      "Train data score :  0.9489998156342183\n",
      "\n",
      "\n",
      "[0.943952802359882, 0.9501290560471977, 0.9496681415929203, 0.9423856932153393, 0.9462524200239698]\n",
      "Mean Accuracy :  0.9464776226478617\n",
      "Max Accuracy :  0.9501290560471977\n"
     ]
    }
   ],
   "source": [
    "# Gradient Boost Classifier\n",
    "\n",
    "gbm_test_scores = list()\n",
    "gbm_train_scores = list()\n",
    "kfold = KFold(5, shuffle=True, random_state=42)\n",
    "\n",
    "for train_index, test_index in kfold.split(features_values):\n",
    "    print(\"Train : \",train_index, \"Validation : \", test_index)\n",
    "    \n",
    "    features_train_fold, labels_train_fold = features_values[train_index], labels_values[train_index]\n",
    "    features_test_fold, labels_test_fold = features_values[test_index], labels_values[test_index]\n",
    "    \n",
    "    gbm = GradientBoostingClassifier(criterion=\"mse\", learning_rate=0.1, n_estimators=200, subsample=0.4)\n",
    "    gbm.fit(features_train_fold, labels_train_fold)\n",
    "    print(\"Test data score : \", gbm.score(features_test_fold, labels_test_fold))\n",
    "    gbm_test_scores.append(gbm.score(features_test_fold, labels_test_fold))\n",
    "    print(\"Train data score : \", gbm.score(features_train_fold, labels_train_fold))\n",
    "    gbm_train_scores.append(gbm.score(features_train_fold, labels_train_fold))\n",
    "    print(\"\\n\")\n",
    "    \n",
    "print(gbm_test_scores)\n",
    "print(\"Mean Accuracy : \", np.mean(gbm_test_scores))\n",
    "print(\"Max Accuracy : \", max(gbm_test_scores))"
   ]
  },
  {
   "cell_type": "code",
   "execution_count": 69,
   "metadata": {},
   "outputs": [
    {
     "name": "stdout",
     "output_type": "stream",
     "text": [
      "Accuracy :  0.9463133442312656\n",
      "[1 2 3 4 5 6]\n"
     ]
    }
   ],
   "source": [
    "# Gradient boost Classifier with optimization\n",
    "gbm = GradientBoostingClassifier(criterion=\"mse\", learning_rate=0.1, n_estimators=200, subsample=0.4)\n",
    "gbm.fit(features_train, labels_train)\n",
    "predicted_labels = gbm.predict(features_test)\n",
    "print(\"Accuracy : \", accuracy_score(labels_test, predicted_labels))\n",
    "print(np.unique(predicted_labels))"
   ]
  },
  {
   "cell_type": "code",
   "execution_count": null,
   "metadata": {},
   "outputs": [],
   "source": []
  }
 ],
 "metadata": {
  "kernelspec": {
   "display_name": "Python 3",
   "language": "python",
   "name": "python3"
  },
  "language_info": {
   "codemirror_mode": {
    "name": "ipython",
    "version": 3
   },
   "file_extension": ".py",
   "mimetype": "text/x-python",
   "name": "python",
   "nbconvert_exporter": "python",
   "pygments_lexer": "ipython3",
   "version": "3.7.0"
  }
 },
 "nbformat": 4,
 "nbformat_minor": 2
}
